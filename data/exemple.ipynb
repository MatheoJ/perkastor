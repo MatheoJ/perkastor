{
 "cells": [
  {
   "cell_type": "code",
   "execution_count": 8,
   "metadata": {},
   "outputs": [],
   "source": [
    "import requests\n",
    "from bs4 import BeautifulSoup\n",
    "import spacy\n",
    "\n",
    "def fetch_historic_facts_v2(url):\n",
    "    response = requests.get(url)\n",
    "\n",
    "    if response.status_code == 200:\n",
    "        soup = BeautifulSoup(response.text, \"html.parser\")\n",
    "        content_section = soup.find(\"div\", {\"class\": \"detail\"})\n",
    "\n",
    "\n",
    "        if content_section:\n",
    "            text = content_section.get_text()\n",
    "            \n",
    "            nlp = spacy.load(\"fr_core_news_sm\")\n",
    "            doc = nlp(text)\n",
    "\n",
    "            historic_facts = []\n",
    "\n",
    "            for ent in doc.ents:\n",
    "                if ent.label_ in [\"DATE\", \"EVENT\"]:\n",
    "                    sentence = ent.sent.text.strip()\n",
    "                    if sentence not in historic_facts:\n",
    "                        historic_facts.append(sentence)\n",
    "\n",
    "            return historic_facts\n",
    "        else:\n",
    "            print(\"La section de contenu n'a pas été trouvée sur la page.\")\n",
    "            return []\n",
    "    else:\n",
    "        print(f\"Erreur lors de la récupération de la page. Code d'erreur : {response.status_code}\")\n",
    "        return []\n",
    "\n",
    "url = \"https://www.lagarennecolombes.fr/Histoire%20et%20patrimoine/6042/6164\"\n",
    "historic_facts = fetch_historic_facts_v2(url)\n",
    "\n"
   ]
  },
  {
   "cell_type": "code",
   "execution_count": 10,
   "metadata": {},
   "outputs": [
    {
     "name": "stdout",
     "output_type": "stream",
     "text": [
      "Le début du XVIe siècle voit la construction de sa première habitation : La Tournelle, située sur l'actuelle place de Belgique, demeure du fermier\n",
      "L'urbanisation transforme alors sa physionomie d'origine; des voies et places sont tracées et, le 31 décembre 1886, les architectes Jean-Baptiste Lafolie et Guerton remettent les plans de cette nouvelle propriété communale au maire de Colombes\n"
     ]
    }
   ],
   "source": [
    "import re, requests\n",
    "from bs4 import BeautifulSoup\n",
    "url = \"https://www.lagarennecolombes.fr/Histoire%20et%20patrimoine/6042/6164\"\n",
    "def extract_historic_facts_regex(text):\n",
    "    # Expression régulière pour identifier les dates et les événements historiques\n",
    "    # Expression régulière pour identifier les dates\n",
    "    date_pattern = r\"(\\b(?:\\d{1,4}|X{1,3}I{1,3}|X{1,3}V?I{0,3}|V?I{1,3})\\s?(?:siècle|année|époque)\\b)\"\n",
    "\n",
    "    # Expression régulière pour identifier les lieux (rues, places, avenues, boulevards)\n",
    "    location_pattern = r\"(\\b(?:rue|place|avenue|boulevard)[^\\n,.!?]*\\b)\"\n",
    "\n",
    "    # Combinaison des expressions régulières\n",
    "    regex = re.compile(f\"({date_pattern}|{location_pattern})\", re.IGNORECASE)\n",
    "\n",
    "    # Découper le texte en phrases en utilisant un point, un point d'interrogation ou un point d'exclamation comme séparateur\n",
    "    sentences = re.split(r\"[.!?]\", text)\n",
    "    # Trouver les phrases qui correspondent à l'expression régulière\n",
    "    historic_facts = [sentence.strip() for sentence in sentences if regex.search(sentence)]\n",
    "\n",
    "    return historic_facts\n",
    "\n",
    "response = requests.get(url)\n",
    "\n",
    "if response.status_code == 200:\n",
    "    soup = BeautifulSoup(response.text, \"html.parser\")\n",
    "    content_section = soup.find(\"div\", {\"class\": \"detail\"})\n",
    "    if content_section:\n",
    "        text = content_section.get_text()\n",
    "historic_facts = extract_historic_facts_regex(text)\n",
    "\n",
    "for fact in historic_facts:\n",
    "    print(fact)\n"
   ]
  },
  {
   "cell_type": "code",
   "execution_count": 4,
   "metadata": {},
   "outputs": [
    {
     "name": "stdout",
     "output_type": "stream",
     "text": [
      "Résumé des faits historiques :\n",
      "Résumé des faits historiques pour le texte suivant : 'La rue Saint-Honoré est une voie du 1er arrondissement de Paris, en France. Elle doit son nom à l'église Saint-Honoré. Elle fut tracée pour la première fois au début du XIIIe siècle. En 1564, Catherine de Médicis fit construire\n"
     ]
    }
   ],
   "source": [
    "import spacy\n",
    "import openai\n",
    "\n",
    "# Chargement du modèle de langue français de spaCy\n",
    "nlp = spacy.load(\"fr_core_news_sm\")\n",
    "\n",
    "# Texte d'exemple contenant des faits historiques\n",
    "text = \"\"\"La rue Saint-Honoré est une voie du 1er arrondissement de Paris, en France. Elle doit son nom à l'église Saint-Honoré. Elle fut tracée pour la première fois au début du XIIIe siècle. En 1564, Catherine de Médicis fit construire le palais des Tuileries à l'ouest de la rue.\"\"\"\n",
    "\n",
    "# Traitement du texte avec spaCy\n",
    "doc = nlp(text)\n",
    "\n",
    "# Extraction des entités nommées\n",
    "entities = {ent.text: ent.label_ for ent in doc.ents}\n",
    "\n",
    "# Générer un résumé des faits historiques à l'aide de GPT-4\n",
    "# Générer un résumé des faits historiques à l'aide de GPT-4\n",
    "response = openai.Completion.create(\n",
    "    engine=\"davinci\",  # Utiliser l'alias du modèle GPT-3 Davinci pour un résumé de texte\n",
    "    prompt=f\"Résumé des faits historiques pour le texte suivant : '{text}'\",\n",
    "    temperature=0.5,\n",
    "    max_tokens=100,\n",
    "    top_p=1,\n",
    "    frequency_penalty=0,\n",
    "    presence_penalty=0,\n",
    ")\n",
    "\n",
    "# Afficher le résumé des faits historiques généré par GPT-3\n",
    "print(\"Résumé des faits historiques :\")\n",
    "print(response.choices[0].text.strip())\n",
    "\n",
    "\n"
   ]
  },
  {
   "cell_type": "code",
   "execution_count": 3,
   "metadata": {},
   "outputs": [
    {
     "name": "stderr",
     "output_type": "stream",
     "text": [
      "Your max_length is set to 150, but you input_length is only 100. You might consider decreasing max_length manually, e.g. summarizer('...', max_length=50)\n"
     ]
    },
    {
     "name": "stdout",
     "output_type": "stream",
     "text": [
      "Faits historiques :\n",
      "Elle doit son nom à l'église Saint-Honoré. Elle fut tracée pour la première fois au début du XIIIe siècle. En 1564, Catherine de Médicis fit construire le palais des Tuileries.\n"
     ]
    }
   ],
   "source": [
    "import spacy\n",
    "from transformers import pipeline\n",
    "\n",
    "# Chargement du modèle de langue français de spaCy\n",
    "nlp = spacy.load(\"fr_core_news_sm\")\n",
    "\n",
    "# Création d'une pipeline de résumé avec Hugging Face Transformers\n",
    "summarizer = pipeline(\"summarization\", model=\"facebook/bart-large-cnn\", tokenizer=\"facebook/bart-large-cnn\")\n",
    "\n",
    "# Texte d'exemple contenant des faits historiques\n",
    "text = \"\"\"La rue Saint-Honoré est une voie du 1er arrondissement de Paris, en France. Elle doit son nom à l'église Saint-Honoré. Elle fut tracée pour la première fois au début du XIIIe siècle. En 1564, Catherine de Médicis fit construire le palais des Tuileries à l'ouest de la rue.\"\"\"\n",
    "\n",
    "# Traitement du texte avec spaCy\n",
    "doc = nlp(text)\n",
    "\n",
    "# Extraction des entités nommées\n",
    "entities = {ent.text: ent.label_ for ent in doc.ents}\n",
    "\n",
    "# Générer un résumé des faits historiques à l'aide du modèle BART\n",
    "summary = summarizer(text, max_length=150)\n",
    "\n",
    "# Afficher les faits historiques extraits\n",
    "print(\"Faits historiques :\")\n",
    "print(summary[0][\"summary_text\"])\n"
   ]
  },
  {
   "cell_type": "code",
   "execution_count": 35,
   "metadata": {},
   "outputs": [],
   "source": [
    "import json\n",
    "cities = json.load(open(\"citiesv2.json\", \"r\", encoding=\"utf-8\"))"
   ]
  },
  {
   "cell_type": "code",
   "execution_count": null,
   "metadata": {},
   "outputs": [],
   "source": [
    "from googlesearch import search\n",
    "count = 0\n",
    "\n",
    "for city in cities:\n",
    "    if count < 10:\n",
    "        if city[\"name\"] != \"Marseille\":\n",
    "            query = f\"histoire de {city['name']}\"\n",
    "            print(query)\n",
    "            for j in search(query, num_results=1):\n",
    "                print(j)\n",
    "            \n",
    "            count += 1"
   ]
  },
  {
   "cell_type": "code",
   "execution_count": null,
   "metadata": {},
   "outputs": [],
   "source": [
    "count = 0\n",
    "for city in cities:\n",
    "    for street in city[\"streets\"]:\n",
    "        if street[\"wikipediaUrl\"] is not None:\n",
    "            print(street[\"wikipediaUrl\"])\n",
    "            count += 1"
   ]
  }
 ],
 "metadata": {
  "kernelspec": {
   "display_name": "Python 3",
   "language": "python",
   "name": "python3"
  },
  "language_info": {
   "codemirror_mode": {
    "name": "ipython",
    "version": 3
   },
   "file_extension": ".py",
   "mimetype": "text/x-python",
   "name": "python",
   "nbconvert_exporter": "python",
   "pygments_lexer": "ipython3",
   "version": "3.9.13"
  },
  "orig_nbformat": 4
 },
 "nbformat": 4,
 "nbformat_minor": 2
}
