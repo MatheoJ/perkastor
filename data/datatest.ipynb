{
 "cells": [
  {
   "cell_type": "code",
   "execution_count": 1,
   "metadata": {},
   "outputs": [],
   "source": [
    "from SPARQLWrapper import SPARQLWrapper, JSON\n",
    "def get_streets(city_id):\n",
    "  sparql = SPARQLWrapper(\"https://query.wikidata.org/sparql\")\n",
    "  sparql.setQuery(f\"\"\"\n",
    "  PREFIX wd: <http://www.wikidata.org/entity/>\n",
    "  PREFIX wdt: <http://www.wikidata.org/prop/direct/>\n",
    "  PREFIX rdfs: <http://www.w3.org/2000/01/rdf-schema#>\n",
    "\n",
    "  SELECT ?location ?locationLabel ?wikipediaUrl ?coord WHERE {{\n",
    "    ?location wdt:P131 wd:{city_id}.\n",
    "    ?location rdfs:label ?locationLabel .\n",
    "    FILTER (lang(?locationLabel) = \"fr\")\n",
    "    \n",
    "    OPTIONAL {{\n",
    "      ?wikipediaUrl schema:about ?location .\n",
    "      FILTER (STRSTARTS(STR(?wikipediaUrl), \"https://fr.wikipedia.org/\"))\n",
    "    }}\n",
    "\n",
    "    {{\n",
    "      ?location wdt:P31/wdt:P279* wd:Q34442 .\n",
    "    }} UNION {{\n",
    "      ?location wdt:P31/wdt:P279* wd:Q79007 .\n",
    "    }} UNION {{\n",
    "      ?location wdt:P31/wdt:P279* wd:Q226649 .\n",
    "    }} UNION {{\n",
    "      ?location wdt:P31/wdt:P279* wd:Q41192 .\n",
    "    }} UNION {{\n",
    "      ?location wdt:P31/wdt:P279* wd:Q3257686 .\n",
    "    }} UNION {{\n",
    "      ?location wdt:P31/wdt:P279* wd:Q174782  .\n",
    "    }}\n",
    "    ?location wdt:P625 ?coord .\n",
    "  }}\n",
    "\"\"\")\n",
    "\n",
    "\n",
    "  sparql.setReturnFormat(JSON)\n",
    "  results = sparql.query().convert()\n",
    "  return results\n"
   ]
  },
  {
   "cell_type": "code",
   "execution_count": 21,
   "metadata": {},
   "outputs": [
    {
     "ename": "HTTPError",
     "evalue": "HTTP Error 403: Forbidden",
     "output_type": "error",
     "traceback": [
      "\u001b[1;31m---------------------------------------------------------------------------\u001b[0m",
      "\u001b[1;31mHTTPError\u001b[0m                                 Traceback (most recent call last)",
      "Cell \u001b[1;32mIn[21], line 31\u001b[0m\n\u001b[0;32m      8\u001b[0m sparql\u001b[39m.\u001b[39msetQuery(\u001b[39m\"\"\"\u001b[39m\n\u001b[0;32m      9\u001b[0m \u001b[39m    PREFIX wd: <http://www.wikidata.org/entity/>\u001b[39m\n\u001b[0;32m     10\u001b[0m \u001b[39m    PREFIX wdt: <http://www.wikidata.org/prop/direct/>\u001b[39m\n\u001b[1;32m   (...)\u001b[0m\n\u001b[0;32m     27\u001b[0m \u001b[39m    LIMIT 50000\u001b[39m\n\u001b[0;32m     28\u001b[0m \u001b[39m\"\"\"\u001b[39m)\n\u001b[0;32m     30\u001b[0m sparql\u001b[39m.\u001b[39msetReturnFormat(JSON)\n\u001b[1;32m---> 31\u001b[0m results \u001b[39m=\u001b[39m sparql\u001b[39m.\u001b[39;49mquery()\u001b[39m.\u001b[39mconvert()\n",
      "File \u001b[1;32mc:\\Users\\sabat\\AppData\\Local\\Programs\\Python\\Python39\\lib\\site-packages\\SPARQLWrapper\\Wrapper.py:960\u001b[0m, in \u001b[0;36mSPARQLWrapper.query\u001b[1;34m(self)\u001b[0m\n\u001b[0;32m    942\u001b[0m \u001b[39mdef\u001b[39;00m \u001b[39mquery\u001b[39m(\u001b[39mself\u001b[39m) \u001b[39m-\u001b[39m\u001b[39m>\u001b[39m \u001b[39m\"\u001b[39m\u001b[39mQueryResult\u001b[39m\u001b[39m\"\u001b[39m:\n\u001b[0;32m    943\u001b[0m     \u001b[39m\"\"\"\u001b[39;00m\n\u001b[0;32m    944\u001b[0m \u001b[39m    Execute the query.\u001b[39;00m\n\u001b[0;32m    945\u001b[0m \u001b[39m    Exceptions can be raised if either the URI is wrong or the HTTP sends back an error (this is also the\u001b[39;00m\n\u001b[1;32m   (...)\u001b[0m\n\u001b[0;32m    958\u001b[0m \u001b[39m    :rtype: :class:`QueryResult` instance\u001b[39;00m\n\u001b[0;32m    959\u001b[0m \u001b[39m    \"\"\"\u001b[39;00m\n\u001b[1;32m--> 960\u001b[0m     \u001b[39mreturn\u001b[39;00m QueryResult(\u001b[39mself\u001b[39;49m\u001b[39m.\u001b[39;49m_query())\n",
      "File \u001b[1;32mc:\\Users\\sabat\\AppData\\Local\\Programs\\Python\\Python39\\lib\\site-packages\\SPARQLWrapper\\Wrapper.py:940\u001b[0m, in \u001b[0;36mSPARQLWrapper._query\u001b[1;34m(self)\u001b[0m\n\u001b[0;32m    938\u001b[0m     \u001b[39mraise\u001b[39;00m EndPointInternalError(e\u001b[39m.\u001b[39mread())\n\u001b[0;32m    939\u001b[0m \u001b[39melse\u001b[39;00m:\n\u001b[1;32m--> 940\u001b[0m     \u001b[39mraise\u001b[39;00m e\n",
      "File \u001b[1;32mc:\\Users\\sabat\\AppData\\Local\\Programs\\Python\\Python39\\lib\\site-packages\\SPARQLWrapper\\Wrapper.py:926\u001b[0m, in \u001b[0;36mSPARQLWrapper._query\u001b[1;34m(self)\u001b[0m\n\u001b[0;32m    924\u001b[0m         response \u001b[39m=\u001b[39m urlopener(request, timeout\u001b[39m=\u001b[39m\u001b[39mself\u001b[39m\u001b[39m.\u001b[39mtimeout)\n\u001b[0;32m    925\u001b[0m     \u001b[39melse\u001b[39;00m:\n\u001b[1;32m--> 926\u001b[0m         response \u001b[39m=\u001b[39m urlopener(request)\n\u001b[0;32m    927\u001b[0m     \u001b[39mreturn\u001b[39;00m response, \u001b[39mself\u001b[39m\u001b[39m.\u001b[39mreturnFormat\n\u001b[0;32m    928\u001b[0m \u001b[39mexcept\u001b[39;00m urllib\u001b[39m.\u001b[39merror\u001b[39m.\u001b[39mHTTPError \u001b[39mas\u001b[39;00m e:\n",
      "File \u001b[1;32mc:\\Users\\sabat\\AppData\\Local\\Programs\\Python\\Python39\\lib\\urllib\\request.py:214\u001b[0m, in \u001b[0;36murlopen\u001b[1;34m(url, data, timeout, cafile, capath, cadefault, context)\u001b[0m\n\u001b[0;32m    212\u001b[0m \u001b[39melse\u001b[39;00m:\n\u001b[0;32m    213\u001b[0m     opener \u001b[39m=\u001b[39m _opener\n\u001b[1;32m--> 214\u001b[0m \u001b[39mreturn\u001b[39;00m opener\u001b[39m.\u001b[39;49mopen(url, data, timeout)\n",
      "File \u001b[1;32mc:\\Users\\sabat\\AppData\\Local\\Programs\\Python\\Python39\\lib\\urllib\\request.py:523\u001b[0m, in \u001b[0;36mOpenerDirector.open\u001b[1;34m(self, fullurl, data, timeout)\u001b[0m\n\u001b[0;32m    521\u001b[0m \u001b[39mfor\u001b[39;00m processor \u001b[39min\u001b[39;00m \u001b[39mself\u001b[39m\u001b[39m.\u001b[39mprocess_response\u001b[39m.\u001b[39mget(protocol, []):\n\u001b[0;32m    522\u001b[0m     meth \u001b[39m=\u001b[39m \u001b[39mgetattr\u001b[39m(processor, meth_name)\n\u001b[1;32m--> 523\u001b[0m     response \u001b[39m=\u001b[39m meth(req, response)\n\u001b[0;32m    525\u001b[0m \u001b[39mreturn\u001b[39;00m response\n",
      "File \u001b[1;32mc:\\Users\\sabat\\AppData\\Local\\Programs\\Python\\Python39\\lib\\urllib\\request.py:632\u001b[0m, in \u001b[0;36mHTTPErrorProcessor.http_response\u001b[1;34m(self, request, response)\u001b[0m\n\u001b[0;32m    629\u001b[0m \u001b[39m# According to RFC 2616, \"2xx\" code indicates that the client's\u001b[39;00m\n\u001b[0;32m    630\u001b[0m \u001b[39m# request was successfully received, understood, and accepted.\u001b[39;00m\n\u001b[0;32m    631\u001b[0m \u001b[39mif\u001b[39;00m \u001b[39mnot\u001b[39;00m (\u001b[39m200\u001b[39m \u001b[39m<\u001b[39m\u001b[39m=\u001b[39m code \u001b[39m<\u001b[39m \u001b[39m300\u001b[39m):\n\u001b[1;32m--> 632\u001b[0m     response \u001b[39m=\u001b[39m \u001b[39mself\u001b[39;49m\u001b[39m.\u001b[39;49mparent\u001b[39m.\u001b[39;49merror(\n\u001b[0;32m    633\u001b[0m         \u001b[39m'\u001b[39;49m\u001b[39mhttp\u001b[39;49m\u001b[39m'\u001b[39;49m, request, response, code, msg, hdrs)\n\u001b[0;32m    635\u001b[0m \u001b[39mreturn\u001b[39;00m response\n",
      "File \u001b[1;32mc:\\Users\\sabat\\AppData\\Local\\Programs\\Python\\Python39\\lib\\urllib\\request.py:561\u001b[0m, in \u001b[0;36mOpenerDirector.error\u001b[1;34m(self, proto, *args)\u001b[0m\n\u001b[0;32m    559\u001b[0m \u001b[39mif\u001b[39;00m http_err:\n\u001b[0;32m    560\u001b[0m     args \u001b[39m=\u001b[39m (\u001b[39mdict\u001b[39m, \u001b[39m'\u001b[39m\u001b[39mdefault\u001b[39m\u001b[39m'\u001b[39m, \u001b[39m'\u001b[39m\u001b[39mhttp_error_default\u001b[39m\u001b[39m'\u001b[39m) \u001b[39m+\u001b[39m orig_args\n\u001b[1;32m--> 561\u001b[0m     \u001b[39mreturn\u001b[39;00m \u001b[39mself\u001b[39;49m\u001b[39m.\u001b[39;49m_call_chain(\u001b[39m*\u001b[39;49margs)\n",
      "File \u001b[1;32mc:\\Users\\sabat\\AppData\\Local\\Programs\\Python\\Python39\\lib\\urllib\\request.py:494\u001b[0m, in \u001b[0;36mOpenerDirector._call_chain\u001b[1;34m(self, chain, kind, meth_name, *args)\u001b[0m\n\u001b[0;32m    492\u001b[0m \u001b[39mfor\u001b[39;00m handler \u001b[39min\u001b[39;00m handlers:\n\u001b[0;32m    493\u001b[0m     func \u001b[39m=\u001b[39m \u001b[39mgetattr\u001b[39m(handler, meth_name)\n\u001b[1;32m--> 494\u001b[0m     result \u001b[39m=\u001b[39m func(\u001b[39m*\u001b[39;49margs)\n\u001b[0;32m    495\u001b[0m     \u001b[39mif\u001b[39;00m result \u001b[39mis\u001b[39;00m \u001b[39mnot\u001b[39;00m \u001b[39mNone\u001b[39;00m:\n\u001b[0;32m    496\u001b[0m         \u001b[39mreturn\u001b[39;00m result\n",
      "File \u001b[1;32mc:\\Users\\sabat\\AppData\\Local\\Programs\\Python\\Python39\\lib\\urllib\\request.py:641\u001b[0m, in \u001b[0;36mHTTPDefaultErrorHandler.http_error_default\u001b[1;34m(self, req, fp, code, msg, hdrs)\u001b[0m\n\u001b[0;32m    640\u001b[0m \u001b[39mdef\u001b[39;00m \u001b[39mhttp_error_default\u001b[39m(\u001b[39mself\u001b[39m, req, fp, code, msg, hdrs):\n\u001b[1;32m--> 641\u001b[0m     \u001b[39mraise\u001b[39;00m HTTPError(req\u001b[39m.\u001b[39mfull_url, code, msg, hdrs, fp)\n",
      "\u001b[1;31mHTTPError\u001b[0m: HTTP Error 403: Forbidden"
     ]
    }
   ],
   "source": [
    "# Fetch all cities in France\n",
    "from SPARQLWrapper import SPARQLWrapper, JSON\n",
    "\n",
    "# connexion à l'API Wikidata\n",
    "sparql = SPARQLWrapper(\"https://query.wikidata.org/sparql\")\n",
    "\n",
    "# requête SPARQL pour récupérer les noms et les identifiants des villes de France\n",
    "sparql.setQuery(\"\"\"\n",
    "    PREFIX wd: <http://www.wikidata.org/entity/>\n",
    "    PREFIX wdt: <http://www.wikidata.org/prop/direct/>\n",
    "    PREFIX rdfs: <http://www.w3.org/2000/01/rdf-schema#>\n",
    "\n",
    "    SELECT ?city ?cityLabel ?wikipediaUrl ?area ?coord ?population WHERE {\n",
    "    ?city wdt:P31/wdt:P279* wd:Q484170 .\n",
    "    ?city wdt:P17 wd:Q142 .\n",
    "    ?city rdfs:label ?cityLabel .\n",
    "    ?city wdt:P2046 ?area .\n",
    "    ?city wdt:P625 ?coord .\n",
    "    ?city wdt:P1082 ?population .\n",
    "    FILTER (lang(?cityLabel) = \"fr\")\n",
    "    \n",
    "    OPTIONAL {\n",
    "        ?wikipediaUrl schema:about ?city .\n",
    "        FILTER (STRSTARTS(STR(?wikipediaUrl), \"https://fr.wikipedia.org/\"))\n",
    "    }\n",
    "    }\n",
    "    LIMIT 50000\n",
    "\"\"\")\n",
    "\n",
    "sparql.setReturnFormat(JSON)\n",
    "results = sparql.query().convert()\n"
   ]
  },
  {
   "cell_type": "code",
   "execution_count": 165,
   "metadata": {},
   "outputs": [],
   "source": [
    "cities = []\n",
    "# affichage des noms et des identifiants des villes\n",
    "for result in results[\"results\"][\"bindings\"]:\n",
    "    cities.append({\n",
    "        \"id\": result[\"city\"][\"value\"].split(\"/\")[-1],\n",
    "        \"name\": result[\"cityLabel\"][\"value\"],\n",
    "        \"wikipediaUrl\": result[\"wikipediaUrl\"][\"value\"] if \"wikipediaUrl\" in result else None,\n",
    "        \"area\": result[\"area\"][\"value\"],\n",
    "        \"coordinates\" : result[\"coord\"][\"value\"]\n",
    "    })\n"
   ]
  },
  {
   "cell_type": "code",
   "execution_count": 166,
   "metadata": {},
   "outputs": [],
   "source": [
    "#save citites in json file\n",
    "import json\n",
    "with open('cities.json', 'w') as outfile:\n",
    "    json.dump(cities, outfile)\n",
    "    "
   ]
  },
  {
   "cell_type": "code",
   "execution_count": 2,
   "metadata": {},
   "outputs": [],
   "source": [
    "size = {\n",
    "    \"rue\" : 0.0005,\n",
    "    \"avenue\" : 0.001,\n",
    "    \"boulevard\" : 0.002,\n",
    "    \"place\" : 0.0008,\n",
    "    \"allée\" : 0.0002,\n",
    "    \"impasse\" : 0.0001,\n",
    "    \"chemin\" : 0.0003,\n",
    "    \"cours\" : 0.0004,\n",
    "    \"quai\" : 0.0006,\n",
    "    \"passage\" : 0.0007,\n",
    "    \"square\" : 0.0009,\n",
    "    \"route\" : 0.0011,\n",
    "    \"rond-point\" : 0.001,\n",
    "    \"voie\" : 0.0005,\n",
    "    \"promenade\" : 0.0002,\n",
    "    \"parc\" : 0.0001,\n",
    "}"
   ]
  },
  {
   "cell_type": "code",
   "execution_count": 3,
   "metadata": {},
   "outputs": [],
   "source": [
    "import json\n",
    "cities = json.load(open('cities.json'))"
   ]
  },
  {
   "cell_type": "code",
   "execution_count": 4,
   "metadata": {},
   "outputs": [
    {
     "name": "stdout",
     "output_type": "stream",
     "text": [
      "HTTP Error 403: Forbidden Cognac/EndPointInternalError: The endpoint returned the HTTP status code 500. \n",
      "\n",
      "Response:\n",
      "b'SPARQL-QUERY: queryStr=\\n  PREFIX wd: <http://www.wikidata.org/entity/>\\n  PREFIX wdt: <http://www.wikidata.org/prop/direct/>\\n  PREFIX rdfs: <http://www.w3.org/2000/01/rdf-schema#>\\n\\n  SELECT ?location ?locationLabel ?wikipediaUrl ?coord WHERE {\\n    ?location wdt:P131 wd:Q288.\\n    ?location rdfs:label ?locationLabel .\\n    FILTER (lang(?locationLabel) = \"fr\")\\n    \\n    OPTIONAL {\\n      ?wikipediaUrl schema:about ?location .\\n      FILTER (STRSTARTS(STR(?wikipediaUrl), \"https://fr.wikipedia.org/\"))\\n    }\\n\\n    {\\n      ?location wdt:P31/wdt:P279* wd:Q34442 .\\n    } UNION {\\n      ?location wdt:P31/wdt:P279* wd:Q79007 .\\n    } UNION {\\n      ?location wdt:P31/wdt:P279* wd:Q226649 .\\n    } UNION {\\n      ?location wdt:P31/wdt:P279* wd:Q41192 .\\n    } UNION {\\n      ?location wdt:P31/wdt:P279* wd:Q3257686 .\\n    } UNION {\\n      ?location wdt:P31/wdt:P279* wd:Q174782  .\\n    }\\n    ?location wdt:P625 ?coord .\\n  }\\n\\njava.util.concurrent.TimeoutException\\n\\tat java.util.concurrent.FutureTask.get(FutureTask.java:205)\\n\\tat com.bigdata.rdf.sail.webapp.BigdataServlet.submitApiTask(BigdataServlet.java:292)\\n\\tat com.bigdata.rdf.sail.webapp.QueryServlet.doSparqlQuery(QueryServlet.java:678)\\n\\tat com.bigdata.rdf.sail.webapp.QueryServlet.doGet(QueryServlet.java:290)\\n\\tat com.bigdata.rdf.sail.webapp.RESTServlet.doGet(RESTServlet.java:240)\\n\\tat com.bigdata.rdf.sail.webapp.MultiTenancyServlet.doGet(MultiTenancyServlet.java:273)\\n\\tat javax.servlet.http.HttpServlet.service(HttpServlet.java:687)\\n\\tat javax.servlet.http.HttpServlet.service(HttpServlet.java:790)\\n\\tat org.eclipse.jetty.servlet.ServletHolder.handle(ServletHolder.java:865)\\n\\tat org.eclipse.jetty.servlet.ServletHandler$CachedChain.doFilter(ServletHandler.java:1655)\\n\\tat org.wikidata.query.rdf.blazegraph.throttling.ThrottlingFilter.doFilter(ThrottlingFilter.java:320)\\n\\tat org.eclipse.jetty.servlet.ServletHandler$CachedChain.doFilter(ServletHandler.java:1642)\\n\\tat org.wikidata.query.rdf.blazegraph.throttling.SystemOverloadFilter.doFilter(SystemOverloadFilter.java:82)\\n\\tat org.eclipse.jetty.servlet.ServletHandler$CachedChain.doFilter(ServletHandler.java:1642)\\n\\tat ch.qos.logback.classic.helpers.MDCInsertingServletFilter.doFilter(MDCInsertingServletFilter.java:50)\\n\\tat org.eclipse.jetty.servlet.ServletHandler$CachedChain.doFilter(ServletHandler.java:1642)\\n\\tat org.wikidata.query.rdf.blazegraph.filters.QueryEventSenderFilter.doFilter(QueryEventSenderFilter.java:119)\\n\\tat org.eclipse.jetty.servlet.ServletHandler$CachedChain.doFilter(ServletHandler.java:1642)\\n\\tat org.wikidata.query.rdf.blazegraph.filters.ClientIPFilter.doFilter(ClientIPFilter.java:43)\\n\\tat org.eclipse.jetty.servlet.ServletHandler$CachedChain.doFilter(ServletHandler.java:1642)\\n\\tat org.wikidata.query.rdf.blazegraph.filters.JWTIdentityFilter.doFilter(JWTIdentityFilter.java:66)\\n\\tat org.eclipse.jetty.servlet.ServletHandler$CachedChain.doFilter(ServletHandler.java:1642)\\n\\tat org.wikidata.query.rdf.blazegraph.filters.RealAgentFilter.doFilter(RealAgentFilter.java:33)\\n\\tat org.eclipse.jetty.servlet.ServletHandler$CachedChain.doFilter(ServletHandler.java:1642)\\n\\tat org.wikidata.query.rdf.blazegraph.filters.RequestConcurrencyFilter.doFilter(RequestConcurrencyFilter.java:50)\\n\\tat org.eclipse.jetty.servlet.ServletHandler$CachedChain.doFilter(ServletHandler.java:1634)\\n\\tat org.eclipse.jetty.servlet.ServletHandler.doHandle(ServletHandler.java:533)\\n\\tat org.eclipse.jetty.server.handler.ScopedHandler.handle(ScopedHandler.java:146)\\n\\tat org.eclipse.jetty.security.SecurityHandler.handle(SecurityHandler.java:548)\\n\\tat org.eclipse.jetty.server.handler.HandlerWrapper.handle(HandlerWrapper.java:132)\\n\\tat org.eclipse.jetty.server.handler.ScopedHandler.nextHandle(ScopedHandler.java:257)\\n\\tat org.eclipse.jetty.server.session.SessionHandler.doHandle(SessionHandler.java:1595)\\n\\tat org.eclipse.jetty.server.handler.ScopedHandler.nextHandle(ScopedHandler.java:255)\\n\\tat org.eclipse.jetty.server.handler.ContextHandler.doHandle(ContextHandler.java:1340)\\n\\tat org.eclipse.jetty.server.handler.ScopedHandler.nextScope(ScopedHandler.java:203)\\n\\tat org.eclipse.jetty.servlet.ServletHandler.doScope(ServletHandler.java:473)\\n\\tat org.eclipse.jetty.server.session.SessionHandler.doScope(SessionHandler.java:1564)\\n\\tat org.eclipse.jetty.server.handler.ScopedHandler.nextScope(ScopedHandler.java:201)\\n\\tat org.eclipse.jetty.server.handler.ContextHandler.doScope(ContextHandler.java:1242)\\n\\tat org.eclipse.jetty.server.handler.ScopedHandler.handle(ScopedHandler.java:144)\\n\\tat org.eclipse.jetty.server.handler.ContextHandlerCollection.handle(ContextHandlerCollection.java:220)\\n\\tat org.eclipse.jetty.server.handler.HandlerCollection.handle(HandlerCollection.java:126)\\n\\tat org.eclipse.jetty.server.handler.HandlerWrapper.handle(HandlerWrapper.java:132)\\n\\tat org.eclipse.jetty.server.Server.handle(Server.java:503)\\n\\tat org.eclipse.jetty.server.HttpChannel.handle(HttpChannel.java:364)\\n\\tat org.eclipse.jetty.server.HttpConnection.onFillable(HttpConnection.java:260)\\n\\tat org.eclipse.jetty.io.AbstractConnection$ReadCallback.succeeded(AbstractConnection.java:305)\\n\\tat org.eclipse.jetty.io.FillInterest.fillable(FillInterest.java:103)\\n\\tat org.eclipse.jetty.io.ChannelEndPoint$2.run(ChannelEndPoint.java:118)\\n\\tat org.eclipse.jetty.util.thread.strategy.EatWhatYouKill.runTask(EatWhatYouKill.java:333)\\n\\tat org.eclipse.jetty.util.thread.strategy.EatWhatYouKill.doProduce(EatWhatYouKill.java:310)\\n\\tat org.eclipse.jetty.util.thread.strategy.EatWhatYouKill.tryProduce(EatWhatYouKill.java:168)\\n\\tat org.eclipse.jetty.util.thread.strategy.EatWhatYouKill.run(EatWhatYouKill.java:126)\\n\\tat org.eclipse.jetty.util.thread.ReservedThreadExecutor$ReservedThread.run(ReservedThreadExecutor.java:366)\\n\\tat org.eclipse.jetty.util.thread.QueuedThreadPool.runJob(QueuedThreadPool.java:765)\\n\\tat org.eclipse.jetty.util.thread.QueuedThreadPool$2.run(QueuedThreadPool.java:683)\\n\\tat java.lang.Thread.run(Thread.java:750)\\n' Tours/HTTP Error 403: Forbidden Tours/"
     ]
    }
   ],
   "source": [
    "data = []\n",
    "for city in cities:\n",
    "    #print(city[\"name\"])\n",
    "    attemps = 0\n",
    "    results = None\n",
    "    while attemps < 5:\n",
    "        try:\n",
    "            results = get_streets(city[\"id\"])\n",
    "            break\n",
    "        except Exception as e:\n",
    "            print(e, city[\"name\"], end='/')\n",
    "            attemps += 1\n",
    "    streets = []\n",
    "    seen = set()\n",
    "    if results is not None:\n",
    "        for result in results[\"results\"][\"bindings\"]:\n",
    "            if not result['locationLabel']['value'] in seen:\n",
    "                streetArea = size[result['locationLabel']['value'].split(\" \")[0].lower()] if result['locationLabel']['value'].split(\" \")[0].lower() in size else None\n",
    "                streets.append({\"link\" : result['location']['value'], \"label\" : result['locationLabel']['value'], \"wikipediaUrl\" : result['wikipediaUrl']['value'] if 'wikipediaUrl' in result else None, \"coordinates\": result['coord']['value'], \"area\": streetArea})\n",
    "                seen.add(result['locationLabel']['value'])\n",
    "    else:\n",
    "        results = []\n",
    "    data.append({\"city\": city, \"streets\": streets })"
   ]
  },
  {
   "cell_type": "code",
   "execution_count": null,
   "metadata": {},
   "outputs": [
    {
     "name": "stdout",
     "output_type": "stream",
     "text": [
      "City: Paris - ID: Q90\n"
     ]
    }
   ],
   "source": [
    "import requests\n",
    "\n",
    "def get_city_id(city_name):\n",
    "    url = f\"https://www.wikidata.org/w/api.php?action=wbsearchentities&search={city_name}&language=fr&format=json&type=item\"\n",
    "    response = requests.get(url)\n",
    "    data = response.json()\n",
    "\n",
    "    if data[\"search\"]:\n",
    "        return data[\"search\"][0][\"id\"]\n",
    "    else:\n",
    "        return None\n",
    "\n",
    "city_name = \"Paris\"\n",
    "city_id = get_city_id(city_name)\n",
    "if city_id:\n",
    "    print(f\"City: {city_name} - ID: {city_id}\")\n",
    "else:\n",
    "    print(f\"City not found: {city_name}\")\n"
   ]
  },
  {
   "cell_type": "code",
   "execution_count": null,
   "metadata": {},
   "outputs": [],
   "source": [
    "from SPARQLWrapper import SPARQLWrapper, JSON\n",
    "\n",
    "# Connect to Wikidata SPARQL endpoint\n",
    "sparql = SPARQLWrapper(\"https://query.wikidata.org/sparql\")\n",
    "\n",
    "# Construct SPARQL query\n",
    "query = \"\"\"\n",
    "  PREFIX wd: <http://www.wikidata.org/entity/>\n",
    "PREFIX wdt: <http://www.wikidata.org/prop/direct/>\n",
    "PREFIX rdfs: <http://www.w3.org/2000/01/rdf-schema#>\n",
    "\n",
    "SELECT ?city ?cityLabel ?wikipediaUrl ?area ?coord (GROUP_CONCAT(CONCAT(?street, '|', ?streetLabel, '|',  ?streetCoord); separator=\"||\") AS ?streets)\n",
    "WHERE {\n",
    "  ?city wdt:P31/wdt:P279* wd:Q484170 .\n",
    "  ?city wdt:P17 wd:Q142 .\n",
    "  ?city rdfs:label ?cityLabel .\n",
    "  ?city wdt:P2046 ?area .\n",
    "  ?city wdt:P625 ?coord .\n",
    "  FILTER (lang(?cityLabel) = \"fr\")\n",
    "  \n",
    "  OPTIONAL {\n",
    "    ?wikipediaUrl schema:about ?city .\n",
    "    FILTER (STRSTARTS(STR(?wikipediaUrl), \"https://fr.wikipedia.org/\"))\n",
    "  }\n",
    "  \n",
    "  {\n",
    "    SELECT DISTINCT ?city ?street ?streetLabel ?streetUrl ?streetCoord ?streetArea WHERE {\n",
    "      ?city wdt:P131 ?location .\n",
    "      ?location rdfs:label ?streetLabel .\n",
    "      FILTER (lang(?streetLabel) = \"fr\")\n",
    "      \n",
    "      OPTIONAL {\n",
    "        ?street wdt:P2046 ?streetArea .\n",
    "        BIND(REPLACE(?streetLabel, \" de .*$\", \"\", \"i\") AS ?streetName)\n",
    "        FILTER (?streetArea > 0 && ?streetName IN (\"avenue\", \"boulevard\", \"chemin\", \"impasse\", \"place\", \"quai\", \"rue\", \"route\"))\n",
    "      }\n",
    "      \n",
    "      OPTIONAL {\n",
    "        ?street wdt:P625 ?streetCoord .\n",
    "      }\n",
    "      \n",
    "      OPTIONAL {\n",
    "        ?street schema:about ?streetUrl .\n",
    "        FILTER (STRSTARTS(STR(?streetUrl), \"https://fr.wikipedia.org/\"))\n",
    "      }\n",
    "    }\n",
    "  }\n",
    "}\n",
    "GROUP BY ?city ?cityLabel ?wikipediaUrl ?area ?coord\n",
    "\n",
    "\"\"\"\n",
    "\n",
    "# Set query and return format\n",
    "sparql.setQuery(query)\n",
    "sparql.setReturnFormat(JSON)\n",
    "\n",
    "# Execute query and retrieve results\n",
    "results = sparql.query().convert()\n",
    "\n",
    "# Parse results into JSON output format\n",
    "output = {}\n",
    "for result in results[\"results\"][\"bindings\"]:\n",
    "    city_id = result[\"city\"][\"value\"].split(\"/\")[-1]\n",
    "    # Create a new city object if it doesn't exist yet\n",
    "    if city_id not in output:\n",
    "        output[city_id] = {\n",
    "            \"id\": city_id,\n",
    "            \"name\": result[\"cityLabel\"][\"value\"],\n",
    "            \"wikipediaUrl\": result.get(\"wikipediaUrl\", {}).get(\"value\"),\n",
    "            \"area\": float(result[\"area\"][\"value\"]),\n",
    "            \"coordinates\": result[\"coord\"][\"value\"],\n",
    "            \"streets\": []\n",
    "        }\n",
    "    # Add street information to city object\n",
    "    streets_str = result[\"streets\"][\"value\"]\n",
    "    streets = []\n",
    "    for street_str in streets_str.split(\"||\"):\n",
    "        street_data = street_str.split(\"|\")\n",
    "        street = {\n",
    "            \"link\": street_data[0],\n",
    "            \"label\": street_data[1],\n",
    "            \"wikipediaUrl\": street_data[2] or None,\n",
    "            \"coordinates\": street_data[3],\n",
    "            \"area\": float(street_data[4]) if street_data[4] else None\n",
    "        }\n",
    "        streets.append(street)\n",
    "    output[city_id][\"streets\"].extend(streets)\n",
    "\n",
    "\n"
   ]
  },
  {
   "cell_type": "code",
   "execution_count": 1,
   "metadata": {},
   "outputs": [],
   "source": [
    "import json\n",
    "# load street data\n",
    "with open(\"data.json\", \"r\") as f:\n",
    "    data = json.load(f)\n"
   ]
  },
  {
   "cell_type": "code",
   "execution_count": 7,
   "metadata": {},
   "outputs": [
    {
     "data": {
      "text/plain": [
       "37730"
      ]
     },
     "execution_count": 7,
     "metadata": {},
     "output_type": "execute_result"
    }
   ],
   "source": [
    "len(data)"
   ]
  },
  {
   "cell_type": "code",
   "execution_count": 5,
   "metadata": {},
   "outputs": [],
   "source": [
    "# find cities with missing street\n",
    "cities = []\n",
    "for city in data:\n",
    "    if len(city[\"streets\"]) == 0:\n",
    "        cities.append(city[\"city\"][\"name\"])\n"
   ]
  },
  {
   "cell_type": "code",
   "execution_count": 6,
   "metadata": {},
   "outputs": [
    {
     "data": {
      "text/plain": [
       "37578"
      ]
     },
     "execution_count": 6,
     "metadata": {},
     "output_type": "execute_result"
    }
   ],
   "source": [
    "len(cities)"
   ]
  },
  {
   "cell_type": "code",
   "execution_count": 9,
   "metadata": {},
   "outputs": [],
   "source": [
    "# trier les villes par surface\n",
    "cities = sorted(data, key=lambda x: x[\"city\"][\"area\"], reverse=True)\n",
    "        "
   ]
  }
 ],
 "metadata": {
  "kernelspec": {
   "display_name": "Python 3",
   "language": "python",
   "name": "python3"
  },
  "language_info": {
   "codemirror_mode": {
    "name": "ipython",
    "version": 3
   },
   "file_extension": ".py",
   "mimetype": "text/x-python",
   "name": "python",
   "nbconvert_exporter": "python",
   "pygments_lexer": "ipython3",
   "version": "3.9.13"
  },
  "orig_nbformat": 4
 },
 "nbformat": 4,
 "nbformat_minor": 2
}
