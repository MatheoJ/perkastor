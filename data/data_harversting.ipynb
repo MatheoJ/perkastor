{
 "cells": [
  {
   "cell_type": "code",
   "execution_count": 40,
   "metadata": {},
   "outputs": [],
   "source": [
    "import json\n",
    "data = json.load(open('./data3.json'))"
   ]
  },
  {
   "cell_type": "code",
   "execution_count": 41,
   "metadata": {},
   "outputs": [
    {
     "data": {
      "text/plain": [
       "297"
      ]
     },
     "execution_count": 41,
     "metadata": {},
     "output_type": "execute_result"
    }
   ],
   "source": [
    "len(data)"
   ]
  },
  {
   "cell_type": "code",
   "execution_count": 42,
   "metadata": {},
   "outputs": [],
   "source": [
    "count = 0\n",
    "for city in data:\n",
    "    if len(city[\"streets\"]) > 0:\n",
    "        count += 1"
   ]
  },
  {
   "cell_type": "code",
   "execution_count": 43,
   "metadata": {},
   "outputs": [
    {
     "name": "stdout",
     "output_type": "stream",
     "text": [
      "91\n"
     ]
    }
   ],
   "source": [
    "print(count)"
   ]
  },
  {
   "cell_type": "code",
   "execution_count": 28,
   "metadata": {},
   "outputs": [],
   "source": [
    "import requests, json\n",
    "def get_streets(city_id):\n",
    "  sparql_query = f\"\"\"\n",
    "  PREFIX wd: <http://www.wikidata.org/entity/>\n",
    "  PREFIX wdt: <http://www.wikidata.org/prop/direct/>\n",
    "  PREFIX rdfs: <http://www.w3.org/2000/01/rdf-schema#>\n",
    "\n",
    "  SELECT ?location ?locationLabel ?wikipediaUrl ?coord WHERE {{\n",
    "    ?location wdt:P131 wd:{city_id}.\n",
    "    ?location rdfs:label ?locationLabel .\n",
    "    FILTER (lang(?locationLabel) = \"fr\")\n",
    "    \n",
    "    OPTIONAL {{\n",
    "      ?wikipediaUrl schema:about ?location .\n",
    "      FILTER (STRSTARTS(STR(?wikipediaUrl), \"https://fr.wikipedia.org/\"))\n",
    "    }}\n",
    "\n",
    "    {{\n",
    "      ?location wdt:P31/wdt:P279* wd:Q34442 .\n",
    "    }} UNION {{\n",
    "      ?location wdt:P31/wdt:P279* wd:Q79007 .\n",
    "    }} UNION {{\n",
    "      ?location wdt:P31/wdt:P279* wd:Q226649 .\n",
    "    }} UNION {{\n",
    "      ?location wdt:P31/wdt:P279* wd:Q41192 .\n",
    "    }} UNION {{\n",
    "      ?location wdt:P31/wdt:P279* wd:Q3257686 .\n",
    "    }} UNION {{\n",
    "      ?location wdt:P31/wdt:P279* wd:Q174782  .\n",
    "    }}\n",
    "    ?location wdt:P625 ?coord .\n",
    "  }}\n",
    "  \"\"\"\n",
    "\n",
    "  url = \"https://query.wikidata.org/sparql\"\n",
    "  headers = {\n",
    "      \"User-Agent\": \"Mozilla/5.0\",\n",
    "      \"Accept\": \"application/sparql-results+json\",\n",
    "  }\n",
    "  response = requests.post(url, data={\"query\": sparql_query}, headers=headers)\n",
    "\n",
    "  # Check if the request was successful\n",
    "  if response.status_code == 200:\n",
    "      json_data = json.loads(response.text)\n",
    "      #print(json_data)\n",
    "  else :\n",
    "    print(response)\n",
    "    json_data = None\n",
    "  return json_data\n"
   ]
  },
  {
   "cell_type": "code",
   "execution_count": 15,
   "metadata": {},
   "outputs": [
    {
     "name": "stdout",
     "output_type": "stream",
     "text": [
      "City: Bordeaux - ID: Q1479\n"
     ]
    }
   ],
   "source": [
    "#get city id\n",
    "import requests\n",
    "\n",
    "def get_city_id(city_name):\n",
    "    url = f\"https://www.wikidata.org/w/api.php?action=wbsearchentities&search={city_name}&language=fr&format=json&type=item\"\n",
    "    response = requests.get(url)\n",
    "    data = response.json()\n",
    "\n",
    "    if data[\"search\"]:\n",
    "        return data[\"search\"][0][\"id\"]\n",
    "    else:\n",
    "        return None\n",
    "\n",
    "city_name = \"Bordeaux\"\n",
    "city_id = get_city_id(city_name)\n",
    "if city_id:\n",
    "    print(f\"City: {city_name} - ID: {city_id}\")\n",
    "else:\n",
    "    print(f\"City not found: {city_name}\")\n"
   ]
  },
  {
   "cell_type": "code",
   "execution_count": 31,
   "metadata": {},
   "outputs": [],
   "source": [
    "streets = get_streets(city_id)"
   ]
  },
  {
   "cell_type": "code",
   "execution_count": 32,
   "metadata": {},
   "outputs": [
    {
     "name": "stdout",
     "output_type": "stream",
     "text": [
      "{'head': {'vars': ['location', 'locationLabel', 'wikipediaUrl', 'coord']}, 'results': {'bindings': [{'location': {'type': 'uri', 'value': 'http://www.wikidata.org/entity/Q22996539'}, 'coord': {'datatype': 'http://www.opengis.net/ont/geosparql#wktLiteral', 'type': 'literal', 'value': 'Point(-0.571233 44.845763)'}, 'locationLabel': {'xml:lang': 'fr', 'type': 'literal', 'value': \"colonnes rostrales de l'esplanade des Quinconces\"}}, {'location': {'type': 'uri', 'value': 'http://www.wikidata.org/entity/Q61338534'}, 'coord': {'datatype': 'http://www.opengis.net/ont/geosparql#wktLiteral', 'type': 'literal', 'value': 'Point(-0.561486 44.83138)'}, 'locationLabel': {'xml:lang': 'fr', 'type': 'literal', 'value': 'place Pierre-Renaudel'}}, {'location': {'type': 'uri', 'value': 'http://www.wikidata.org/entity/Q71269107'}, 'coord': {'datatype': 'http://www.opengis.net/ont/geosparql#wktLiteral', 'type': 'literal', 'value': 'Point(-0.60255 44.83738)'}, 'locationLabel': {'xml:lang': 'fr', 'type': 'literal', 'value': 'rue de Cardoze'}}, {'location': {'type': 'uri', 'value': 'http://www.wikidata.org/entity/Q71269107'}, 'coord': {'datatype': 'http://www.opengis.net/ont/geosparql#wktLiteral', 'type': 'literal', 'value': 'Point(-0.60255 44.83738)'}, 'locationLabel': {'xml:lang': 'fr', 'type': 'literal', 'value': 'rue de Cardoze'}}, {'location': {'type': 'uri', 'value': 'http://www.wikidata.org/entity/Q71271893'}, 'coord': {'datatype': 'http://www.opengis.net/ont/geosparql#wktLiteral', 'type': 'literal', 'value': 'Point(-0.5695 44.84017)'}, 'locationLabel': {'xml:lang': 'fr', 'type': 'literal', 'value': 'rue Émile-Duployé'}}, {'location': {'type': 'uri', 'value': 'http://www.wikidata.org/entity/Q71271893'}, 'coord': {'datatype': 'http://www.opengis.net/ont/geosparql#wktLiteral', 'type': 'literal', 'value': 'Point(-0.5695 44.84017)'}, 'locationLabel': {'xml:lang': 'fr', 'type': 'literal', 'value': 'rue Émile-Duployé'}}, {'location': {'type': 'uri', 'value': 'http://www.wikidata.org/entity/Q71272623'}, 'coord': {'datatype': 'http://www.opengis.net/ont/geosparql#wktLiteral', 'type': 'literal', 'value': 'Point(-0.57046 44.83648)'}, 'locationLabel': {'xml:lang': 'fr', 'type': 'literal', 'value': 'rue Buhan'}}, {'location': {'type': 'uri', 'value': 'http://www.wikidata.org/entity/Q71272623'}, 'coord': {'datatype': 'http://www.opengis.net/ont/geosparql#wktLiteral', 'type': 'literal', 'value': 'Point(-0.57046 44.83648)'}, 'locationLabel': {'xml:lang': 'fr', 'type': 'literal', 'value': 'rue Buhan'}}, {'location': {'type': 'uri', 'value': 'http://www.wikidata.org/entity/Q93491065'}, 'coord': {'datatype': 'http://www.opengis.net/ont/geosparql#wktLiteral', 'type': 'literal', 'value': 'Point(-0.5837 44.8373)'}, 'locationLabel': {'xml:lang': 'fr', 'type': 'literal', 'value': 'esplanade Charles de Gaulle'}}, {'location': {'type': 'uri', 'value': 'http://www.wikidata.org/entity/Q104906145'}, 'coord': {'datatype': 'http://www.opengis.net/ont/geosparql#wktLiteral', 'type': 'literal', 'value': 'Point(-0.60337 44.83031)'}, 'locationLabel': {'xml:lang': 'fr', 'type': 'literal', 'value': 'place Amélie Raba-Léon'}}, {'location': {'type': 'uri', 'value': 'http://www.wikidata.org/entity/Q114417203'}, 'coord': {'datatype': 'http://www.opengis.net/ont/geosparql#wktLiteral', 'type': 'literal', 'value': 'Point(-0.59123405 44.831038466)'}, 'locationLabel': {'xml:lang': 'fr', 'type': 'literal', 'value': 'rue Manon-Cormier'}}, {'location': {'type': 'uri', 'value': 'http://www.wikidata.org/entity/Q114417203'}, 'coord': {'datatype': 'http://www.opengis.net/ont/geosparql#wktLiteral', 'type': 'literal', 'value': 'Point(-0.59123405 44.831038466)'}, 'locationLabel': {'xml:lang': 'fr', 'type': 'literal', 'value': 'rue Manon-Cormier'}}, {'location': {'type': 'uri', 'value': 'http://www.wikidata.org/entity/Q115108279'}, 'coord': {'datatype': 'http://www.opengis.net/ont/geosparql#wktLiteral', 'type': 'literal', 'value': 'Point(-0.56574 44.835212)'}, 'locationLabel': {'xml:lang': 'fr', 'type': 'literal', 'value': 'impasse Maubec'}}, {'location': {'type': 'uri', 'value': 'http://www.wikidata.org/entity/Q115108279'}, 'coord': {'datatype': 'http://www.opengis.net/ont/geosparql#wktLiteral', 'type': 'literal', 'value': 'Point(-0.56574 44.835212)'}, 'locationLabel': {'xml:lang': 'fr', 'type': 'literal', 'value': 'impasse Maubec'}}, {'location': {'type': 'uri', 'value': 'http://www.wikidata.org/entity/Q675193'}, 'wikipediaUrl': {'type': 'uri', 'value': 'https://fr.wikipedia.org/wiki/Rue_Sainte-Catherine_(Bordeaux)'}, 'coord': {'datatype': 'http://www.opengis.net/ont/geosparql#wktLiteral', 'type': 'literal', 'value': 'Point(-0.57305556 44.83333333)'}, 'locationLabel': {'xml:lang': 'fr', 'type': 'literal', 'value': 'rue Sainte-Catherine'}}, {'location': {'type': 'uri', 'value': 'http://www.wikidata.org/entity/Q675193'}, 'wikipediaUrl': {'type': 'uri', 'value': 'https://fr.wikipedia.org/wiki/Rue_Sainte-Catherine_(Bordeaux)'}, 'coord': {'datatype': 'http://www.opengis.net/ont/geosparql#wktLiteral', 'type': 'literal', 'value': 'Point(-0.57305556 44.83333333)'}, 'locationLabel': {'xml:lang': 'fr', 'type': 'literal', 'value': 'rue Sainte-Catherine'}}, {'location': {'type': 'uri', 'value': 'http://www.wikidata.org/entity/Q1431600'}, 'wikipediaUrl': {'type': 'uri', 'value': 'https://fr.wikipedia.org/wiki/Place_des_Quinconces'}, 'coord': {'datatype': 'http://www.opengis.net/ont/geosparql#wktLiteral', 'type': 'literal', 'value': 'Point(-0.57361111 44.84555556)'}, 'locationLabel': {'xml:lang': 'fr', 'type': 'literal', 'value': 'place des Quinconces'}}, {'location': {'type': 'uri', 'value': 'http://www.wikidata.org/entity/Q3364300'}, 'wikipediaUrl': {'type': 'uri', 'value': 'https://fr.wikipedia.org/wiki/Parc_des_expositions_de_Bordeaux'}, 'coord': {'datatype': 'http://www.opengis.net/ont/geosparql#wktLiteral', 'type': 'literal', 'value': 'Point(-0.572327 44.894522)'}, 'locationLabel': {'xml:lang': 'fr', 'type': 'literal', 'value': 'parc des expositions de Bordeaux'}}, {'location': {'type': 'uri', 'value': 'http://www.wikidata.org/entity/Q3389827'}, 'wikipediaUrl': {'type': 'uri', 'value': 'https://fr.wikipedia.org/wiki/Place_Gambetta_(Bordeaux)'}, 'coord': {'datatype': 'http://www.opengis.net/ont/geosparql#wktLiteral', 'type': 'literal', 'value': 'Point(-0.580555555 44.841111111)'}, 'locationLabel': {'xml:lang': 'fr', 'type': 'literal', 'value': 'place Gambetta'}}, {'location': {'type': 'uri', 'value': 'http://www.wikidata.org/entity/Q3390041'}, 'wikipediaUrl': {'type': 'uri', 'value': 'https://fr.wikipedia.org/wiki/Place_Pey-Berland'}, 'coord': {'datatype': 'http://www.opengis.net/ont/geosparql#wktLiteral', 'type': 'literal', 'value': 'Point(-0.57674 44.8378)'}, 'locationLabel': {'xml:lang': 'fr', 'type': 'literal', 'value': 'place Pey-Berland'}}, {'location': {'type': 'uri', 'value': 'http://www.wikidata.org/entity/Q3390134'}, 'wikipediaUrl': {'type': 'uri', 'value': 'https://fr.wikipedia.org/wiki/Place_de_Stalingrad_(Bordeaux)'}, 'coord': {'datatype': 'http://www.opengis.net/ont/geosparql#wktLiteral', 'type': 'literal', 'value': 'Point(-0.559444 44.8403)'}, 'locationLabel': {'xml:lang': 'fr', 'type': 'literal', 'value': 'place de Stalingrad'}}, {'location': {'type': 'uri', 'value': 'http://www.wikidata.org/entity/Q3390346'}, 'wikipediaUrl': {'type': 'uri', 'value': 'https://fr.wikipedia.org/wiki/Place_de_la_Bourse_(Bordeaux)'}, 'coord': {'datatype': 'http://www.opengis.net/ont/geosparql#wktLiteral', 'type': 'literal', 'value': 'Point(-0.5701 44.8414)'}, 'locationLabel': {'xml:lang': 'fr', 'type': 'literal', 'value': 'place de la Bourse'}}, {'location': {'type': 'uri', 'value': 'http://www.wikidata.org/entity/Q3390417'}, 'wikipediaUrl': {'type': 'uri', 'value': 'https://fr.wikipedia.org/wiki/Place_de_la_R%C3%A9publique_(Bordeaux)'}, 'coord': {'datatype': 'http://www.opengis.net/ont/geosparql#wktLiteral', 'type': 'literal', 'value': 'Point(-0.579444 44.835)'}, 'locationLabel': {'xml:lang': 'fr', 'type': 'literal', 'value': 'place de la République'}}, {'location': {'type': 'uri', 'value': 'http://www.wikidata.org/entity/Q3390464'}, 'wikipediaUrl': {'type': 'uri', 'value': 'https://fr.wikipedia.org/wiki/Place_de_la_Victoire_(Bordeaux)'}, 'coord': {'datatype': 'http://www.opengis.net/ont/geosparql#wktLiteral', 'type': 'literal', 'value': 'Point(-0.5725 44.8306)'}, 'locationLabel': {'xml:lang': 'fr', 'type': 'literal', 'value': 'place de la Victoire'}}, {'location': {'type': 'uri', 'value': 'http://www.wikidata.org/entity/Q3390666'}, 'wikipediaUrl': {'type': 'uri', 'value': 'https://fr.wikipedia.org/wiki/Place_du_Parlement_(Bordeaux)'}, 'coord': {'datatype': 'http://www.opengis.net/ont/geosparql#wktLiteral', 'type': 'literal', 'value': 'Point(-0.572019 44.8407)'}, 'locationLabel': {'xml:lang': 'fr', 'type': 'literal', 'value': 'place du Parlement'}}, {'location': {'type': 'uri', 'value': 'http://www.wikidata.org/entity/Q16510119'}, 'wikipediaUrl': {'type': 'uri', 'value': 'https://fr.wikipedia.org/wiki/Place_Am%C3%A9d%C3%A9e-Larrieu'}, 'coord': {'datatype': 'http://www.opengis.net/ont/geosparql#wktLiteral', 'type': 'literal', 'value': 'Point(-0.581466 44.8303)'}, 'locationLabel': {'xml:lang': 'fr', 'type': 'literal', 'value': 'place Amédée-Larrieu'}}, {'location': {'type': 'uri', 'value': 'http://www.wikidata.org/entity/Q22248455'}, 'wikipediaUrl': {'type': 'uri', 'value': 'https://fr.wikipedia.org/wiki/Rue_Fondaud%C3%A8ge'}, 'coord': {'datatype': 'http://www.opengis.net/ont/geosparql#wktLiteral', 'type': 'literal', 'value': 'Point(-0.581626 44.847743)'}, 'locationLabel': {'xml:lang': 'fr', 'type': 'literal', 'value': 'rue Fondaudège'}}, {'location': {'type': 'uri', 'value': 'http://www.wikidata.org/entity/Q22248455'}, 'wikipediaUrl': {'type': 'uri', 'value': 'https://fr.wikipedia.org/wiki/Rue_Fondaud%C3%A8ge'}, 'coord': {'datatype': 'http://www.opengis.net/ont/geosparql#wktLiteral', 'type': 'literal', 'value': 'Point(-0.581626 44.847743)'}, 'locationLabel': {'xml:lang': 'fr', 'type': 'literal', 'value': 'rue Fondaudège'}}, {'location': {'type': 'uri', 'value': 'http://www.wikidata.org/entity/Q22808902'}, 'wikipediaUrl': {'type': 'uri', 'value': 'https://fr.wikipedia.org/wiki/Cours_d%27Alsace_et_Lorraine'}, 'coord': {'datatype': 'http://www.opengis.net/ont/geosparql#wktLiteral', 'type': 'literal', 'value': 'Point(-0.571523 44.837828)'}, 'locationLabel': {'xml:lang': 'fr', 'type': 'literal', 'value': \"cours d'Alsace et Lorraine\"}}, {'location': {'type': 'uri', 'value': 'http://www.wikidata.org/entity/Q22808902'}, 'wikipediaUrl': {'type': 'uri', 'value': 'https://fr.wikipedia.org/wiki/Cours_d%27Alsace_et_Lorraine'}, 'coord': {'datatype': 'http://www.opengis.net/ont/geosparql#wktLiteral', 'type': 'literal', 'value': 'Point(-0.571523 44.837828)'}, 'locationLabel': {'xml:lang': 'fr', 'type': 'literal', 'value': \"cours d'Alsace et Lorraine\"}}, {'location': {'type': 'uri', 'value': 'http://www.wikidata.org/entity/Q23013097'}, 'wikipediaUrl': {'type': 'uri', 'value': 'https://fr.wikipedia.org/wiki/Place_Camille-Jullian_(Bordeaux)'}, 'coord': {'datatype': 'http://www.opengis.net/ont/geosparql#wktLiteral', 'type': 'literal', 'value': 'Point(-0.57194 44.8388)'}, 'locationLabel': {'xml:lang': 'fr', 'type': 'literal', 'value': 'place Camille-Jullian'}}, {'location': {'type': 'uri', 'value': 'http://www.wikidata.org/entity/Q26257836'}, 'wikipediaUrl': {'type': 'uri', 'value': 'https://fr.wikipedia.org/wiki/Cours_Victor-Hugo'}, 'coord': {'datatype': 'http://www.opengis.net/ont/geosparql#wktLiteral', 'type': 'literal', 'value': 'Point(-0.570563 44.83512)'}, 'locationLabel': {'xml:lang': 'fr', 'type': 'literal', 'value': 'cours Victor-Hugo'}}, {'location': {'type': 'uri', 'value': 'http://www.wikidata.org/entity/Q26257836'}, 'wikipediaUrl': {'type': 'uri', 'value': 'https://fr.wikipedia.org/wiki/Cours_Victor-Hugo'}, 'coord': {'datatype': 'http://www.opengis.net/ont/geosparql#wktLiteral', 'type': 'literal', 'value': 'Point(-0.570563 44.83512)'}, 'locationLabel': {'xml:lang': 'fr', 'type': 'literal', 'value': 'cours Victor-Hugo'}}, {'location': {'type': 'uri', 'value': 'http://www.wikidata.org/entity/Q36698507'}, 'wikipediaUrl': {'type': 'uri', 'value': 'https://fr.wikipedia.org/wiki/Rue_Oscar-Balaresque'}, 'coord': {'datatype': 'http://www.opengis.net/ont/geosparql#wktLiteral', 'type': 'literal', 'value': 'Point(-0.602595 44.843274)'}, 'locationLabel': {'xml:lang': 'fr', 'type': 'literal', 'value': 'rue Oscar-Balaresque'}}, {'location': {'type': 'uri', 'value': 'http://www.wikidata.org/entity/Q36698507'}, 'wikipediaUrl': {'type': 'uri', 'value': 'https://fr.wikipedia.org/wiki/Rue_Oscar-Balaresque'}, 'coord': {'datatype': 'http://www.opengis.net/ont/geosparql#wktLiteral', 'type': 'literal', 'value': 'Point(-0.602595 44.843274)'}, 'locationLabel': {'xml:lang': 'fr', 'type': 'literal', 'value': 'rue Oscar-Balaresque'}}, {'location': {'type': 'uri', 'value': 'http://www.wikidata.org/entity/Q36698504'}, 'wikipediaUrl': {'type': 'uri', 'value': 'https://fr.wikipedia.org/wiki/Avenue_du_Jeu-de-Paume'}, 'coord': {'datatype': 'http://www.opengis.net/ont/geosparql#wktLiteral', 'type': 'literal', 'value': 'Point(-0.60178 44.842505)'}, 'locationLabel': {'xml:lang': 'fr', 'type': 'literal', 'value': 'avenue du Jeu-de-Paume'}}, {'location': {'type': 'uri', 'value': 'http://www.wikidata.org/entity/Q36698504'}, 'wikipediaUrl': {'type': 'uri', 'value': 'https://fr.wikipedia.org/wiki/Avenue_du_Jeu-de-Paume'}, 'coord': {'datatype': 'http://www.opengis.net/ont/geosparql#wktLiteral', 'type': 'literal', 'value': 'Point(-0.60178 44.842505)'}, 'locationLabel': {'xml:lang': 'fr', 'type': 'literal', 'value': 'avenue du Jeu-de-Paume'}}, {'location': {'type': 'uri', 'value': 'http://www.wikidata.org/entity/Q37790795'}, 'wikipediaUrl': {'type': 'uri', 'value': 'https://fr.wikipedia.org/wiki/Rue_Louis-Maydieu'}, 'coord': {'datatype': 'http://www.opengis.net/ont/geosparql#wktLiteral', 'type': 'literal', 'value': 'Point(-0.603859 44.843484)'}, 'locationLabel': {'xml:lang': 'fr', 'type': 'literal', 'value': 'rue Louis-Maydieu'}}, {'location': {'type': 'uri', 'value': 'http://www.wikidata.org/entity/Q37790795'}, 'wikipediaUrl': {'type': 'uri', 'value': 'https://fr.wikipedia.org/wiki/Rue_Louis-Maydieu'}, 'coord': {'datatype': 'http://www.opengis.net/ont/geosparql#wktLiteral', 'type': 'literal', 'value': 'Point(-0.603859 44.843484)'}, 'locationLabel': {'xml:lang': 'fr', 'type': 'literal', 'value': 'rue Louis-Maydieu'}}, {'location': {'type': 'uri', 'value': 'http://www.wikidata.org/entity/Q37790800'}, 'wikipediaUrl': {'type': 'uri', 'value': 'https://fr.wikipedia.org/wiki/Rue_Pasteur_(Bordeaux)'}, 'coord': {'datatype': 'http://www.opengis.net/ont/geosparql#wktLiteral', 'type': 'literal', 'value': 'Point(-0.616217 44.84541)'}, 'locationLabel': {'xml:lang': 'fr', 'type': 'literal', 'value': 'rue Pasteur'}}, {'location': {'type': 'uri', 'value': 'http://www.wikidata.org/entity/Q37790800'}, 'wikipediaUrl': {'type': 'uri', 'value': 'https://fr.wikipedia.org/wiki/Rue_Pasteur_(Bordeaux)'}, 'coord': {'datatype': 'http://www.opengis.net/ont/geosparql#wktLiteral', 'type': 'literal', 'value': 'Point(-0.616217 44.84541)'}, 'locationLabel': {'xml:lang': 'fr', 'type': 'literal', 'value': 'rue Pasteur'}}, {'location': {'type': 'uri', 'value': 'http://www.wikidata.org/entity/Q37790801'}, 'wikipediaUrl': {'type': 'uri', 'value': 'https://fr.wikipedia.org/wiki/Rue_de_l%27%C3%89cole-Normale'}, 'coord': {'datatype': 'http://www.opengis.net/ont/geosparql#wktLiteral', 'type': 'literal', 'value': 'Point(-0.605474 44.848032)'}, 'locationLabel': {'xml:lang': 'fr', 'type': 'literal', 'value': \"rue de l'École-Normale\"}}, {'location': {'type': 'uri', 'value': 'http://www.wikidata.org/entity/Q37790801'}, 'wikipediaUrl': {'type': 'uri', 'value': 'https://fr.wikipedia.org/wiki/Rue_de_l%27%C3%89cole-Normale'}, 'coord': {'datatype': 'http://www.opengis.net/ont/geosparql#wktLiteral', 'type': 'literal', 'value': 'Point(-0.605474 44.848032)'}, 'locationLabel': {'xml:lang': 'fr', 'type': 'literal', 'value': \"rue de l'École-Normale\"}}, {'location': {'type': 'uri', 'value': 'http://www.wikidata.org/entity/Q37791220'}, 'wikipediaUrl': {'type': 'uri', 'value': 'https://fr.wikipedia.org/wiki/Rue_Am%C3%A9lie_(Bordeaux)'}, 'coord': {'datatype': 'http://www.opengis.net/ont/geosparql#wktLiteral', 'type': 'literal', 'value': 'Point(-0.602424 44.844273)'}, 'locationLabel': {'xml:lang': 'fr', 'type': 'literal', 'value': 'rue Amélie'}}, {'location': {'type': 'uri', 'value': 'http://www.wikidata.org/entity/Q37791220'}, 'wikipediaUrl': {'type': 'uri', 'value': 'https://fr.wikipedia.org/wiki/Rue_Am%C3%A9lie_(Bordeaux)'}, 'coord': {'datatype': 'http://www.opengis.net/ont/geosparql#wktLiteral', 'type': 'literal', 'value': 'Point(-0.602424 44.844273)'}, 'locationLabel': {'xml:lang': 'fr', 'type': 'literal', 'value': 'rue Amélie'}}, {'location': {'type': 'uri', 'value': 'http://www.wikidata.org/entity/Q38298866'}, 'wikipediaUrl': {'type': 'uri', 'value': 'https://fr.wikipedia.org/wiki/Rue_Jules-Ferry'}, 'coord': {'datatype': 'http://www.opengis.net/ont/geosparql#wktLiteral', 'type': 'literal', 'value': 'Point(-0.605216 44.842703)'}, 'locationLabel': {'xml:lang': 'fr', 'type': 'literal', 'value': 'rue Jules-Ferry'}}, {'location': {'type': 'uri', 'value': 'http://www.wikidata.org/entity/Q38298866'}, 'wikipediaUrl': {'type': 'uri', 'value': 'https://fr.wikipedia.org/wiki/Rue_Jules-Ferry'}, 'coord': {'datatype': 'http://www.opengis.net/ont/geosparql#wktLiteral', 'type': 'literal', 'value': 'Point(-0.605216 44.842703)'}, 'locationLabel': {'xml:lang': 'fr', 'type': 'literal', 'value': 'rue Jules-Ferry'}}, {'location': {'type': 'uri', 'value': 'http://www.wikidata.org/entity/Q108457858'}, 'wikipediaUrl': {'type': 'uri', 'value': 'https://fr.wikipedia.org/wiki/Cours_du_Chapeau-Rouge'}, 'coord': {'datatype': 'http://www.opengis.net/ont/geosparql#wktLiteral', 'type': 'literal', 'value': 'Point(-0.572022 44.84237)'}, 'locationLabel': {'xml:lang': 'fr', 'type': 'literal', 'value': 'cours du Chapeau-Rouge'}}, {'location': {'type': 'uri', 'value': 'http://www.wikidata.org/entity/Q108457858'}, 'wikipediaUrl': {'type': 'uri', 'value': 'https://fr.wikipedia.org/wiki/Cours_du_Chapeau-Rouge'}, 'coord': {'datatype': 'http://www.opengis.net/ont/geosparql#wktLiteral', 'type': 'literal', 'value': 'Point(-0.572022 44.84237)'}, 'locationLabel': {'xml:lang': 'fr', 'type': 'literal', 'value': 'cours du Chapeau-Rouge'}}, {'location': {'type': 'uri', 'value': 'http://www.wikidata.org/entity/Q109018352'}, 'wikipediaUrl': {'type': 'uri', 'value': 'https://fr.wikipedia.org/wiki/Place_de_la_Com%C3%A9die_(Bordeaux)'}, 'coord': {'datatype': 'http://www.opengis.net/ont/geosparql#wktLiteral', 'type': 'literal', 'value': 'Point(-0.57447 44.84246)'}, 'locationLabel': {'xml:lang': 'fr', 'type': 'literal', 'value': 'place de la Comédie'}}]}}\n"
     ]
    }
   ],
   "source": [
    "print(streets)"
   ]
  },
  {
   "cell_type": "code",
   "execution_count": null,
   "metadata": {},
   "outputs": [],
   "source": []
  }
 ],
 "metadata": {
  "kernelspec": {
   "display_name": "Python 3",
   "language": "python",
   "name": "python3"
  },
  "language_info": {
   "codemirror_mode": {
    "name": "ipython",
    "version": 3
   },
   "file_extension": ".py",
   "mimetype": "text/x-python",
   "name": "python",
   "nbconvert_exporter": "python",
   "pygments_lexer": "ipython3",
   "version": "3.9.13"
  },
  "orig_nbformat": 4
 },
 "nbformat": 4,
 "nbformat_minor": 2
}
