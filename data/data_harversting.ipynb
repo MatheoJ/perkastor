{
 "cells": [
  {
   "cell_type": "code",
   "execution_count": 1,
   "metadata": {},
   "outputs": [],
   "source": [
    "import json\n",
    "data = json.load(open('./data2.json'))"
   ]
  },
  {
   "cell_type": "code",
   "execution_count": 2,
   "metadata": {},
   "outputs": [
    {
     "data": {
      "text/plain": [
       "37531"
      ]
     },
     "execution_count": 2,
     "metadata": {},
     "output_type": "execute_result"
    }
   ],
   "source": [
    "len(data)"
   ]
  },
  {
   "cell_type": "code",
   "execution_count": 12,
   "metadata": {},
   "outputs": [
    {
     "name": "stdout",
     "output_type": "stream",
     "text": [
      "[{'link': 'http://www.wikidata.org/entity/Q987729', 'label': 'La Défense', 'wikipediaUrl': 'https://fr.wikipedia.org/wiki/La_D%C3%A9fense', 'coordinates': 'Point(2.240833333 48.891666666)', 'area': None}, {'link': 'http://www.wikidata.org/entity/Q3390217', 'label': 'place de Belgique', 'wikipediaUrl': 'https://fr.wikipedia.org/wiki/Place_de_Belgique_(La_Garenne-Colombes)', 'coordinates': 'Point(2.23944 48.9069)', 'area': 0.0008}, {'link': 'http://www.wikidata.org/entity/Q3441674', 'label': \"rond-point de l'Europe\", 'wikipediaUrl': 'https://fr.wikipedia.org/wiki/Rond-point_de_l%27Europe_(La_Garenne-Colombes)', 'coordinates': 'Point(2.25594 48.9054)', 'area': 0.001}, {'link': 'http://www.wikidata.org/entity/Q65126961', 'label': 'boulevard National', 'wikipediaUrl': 'https://fr.wikipedia.org/wiki/Boulevard_National_(La_Garenne-Colombes)', 'coordinates': 'Point(2.23925 48.90468)', 'area': 0.002}, {'link': 'http://www.wikidata.org/entity/Q65127219', 'label': 'boulevard de la République', 'wikipediaUrl': 'https://fr.wikipedia.org/wiki/Boulevard_de_la_R%C3%A9publique_(La_Garenne-Colombes)', 'coordinates': 'Point(2.24643 48.90665)', 'area': 0.002}, {'link': 'http://www.wikidata.org/entity/Q65130048', 'label': 'avenue du Général-de-Gaulle', 'wikipediaUrl': 'https://fr.wikipedia.org/wiki/Avenue_du_G%C3%A9n%C3%A9ral-de-Gaulle_(La_Garenne-Colombes)', 'coordinates': 'Point(2.25547 48.90834)', 'area': 0.001}, {'link': 'http://www.wikidata.org/entity/Q86671941', 'label': \"rue de l'Aigle\", 'wikipediaUrl': 'https://fr.wikipedia.org/wiki/Rue_de_l%27Aigle', 'coordinates': 'Point(2.25287 48.90989)', 'area': 0.0005}, {'link': 'http://www.wikidata.org/entity/Q86672023', 'label': 'rue Sartoris', 'wikipediaUrl': 'https://fr.wikipedia.org/wiki/Rue_Sartoris', 'coordinates': 'Point(2.24832 48.908)', 'area': 0.0005}, {'link': 'http://www.wikidata.org/entity/Q86672062', 'label': 'rue Voltaire', 'wikipediaUrl': 'https://fr.wikipedia.org/wiki/Rue_Voltaire_(La_Garenne-Colombes)', 'coordinates': 'Point(2.2474 48.90803)', 'area': 0.0005}, {'link': 'http://www.wikidata.org/entity/Q96605935', 'label': 'parc Victor Roy', 'wikipediaUrl': None, 'coordinates': 'Point(2.24586 48.90707)', 'area': 0.0001}, {'link': 'http://www.wikidata.org/entity/Q96605958', 'label': 'square Guy Môquet', 'wikipediaUrl': None, 'coordinates': 'Point(2.25577 48.91296)', 'area': 0.0009}, {'link': 'http://www.wikidata.org/entity/Q104905711', 'label': 'rue de Châteaudun', 'wikipediaUrl': None, 'coordinates': 'Point(2.24600916 48.90988456)', 'area': 0.0005}, {'link': 'http://www.wikidata.org/entity/Q114860914', 'label': 'rue Jean Bonal', 'wikipediaUrl': None, 'coordinates': 'Point(2.248312363 48.906386318)', 'area': 0.0005}, {'link': 'http://www.wikidata.org/entity/Q114860915', 'label': 'rue Pierre Brossolette', 'wikipediaUrl': None, 'coordinates': 'Point(2.250833309 48.903117664)', 'area': 0.0005}, {'link': 'http://www.wikidata.org/entity/Q114860918', 'label': 'rue Lucien-Jeannin', 'wikipediaUrl': None, 'coordinates': 'Point(2.241863437 48.905608375)', 'area': 0.0005}, {'link': 'http://www.wikidata.org/entity/Q114860919', 'label': 'rue Médéric', 'wikipediaUrl': None, 'coordinates': 'Point(2.248188626 48.911197065)', 'area': 0.0005}, {'link': 'http://www.wikidata.org/entity/Q114860916', 'label': 'avenue Rhin-et-Danube', 'wikipediaUrl': None, 'coordinates': 'Point(2.244021777 48.903503222)', 'area': 0.001}, {'link': 'http://www.wikidata.org/entity/Q114860917', 'label': 'avenue de Verdun 1916', 'wikipediaUrl': None, 'coordinates': 'Point(2.235002136 48.905455068)', 'area': 0.001}, {'link': 'http://www.wikidata.org/entity/Q114860922', 'label': 'place du 11 Novembre 1918', 'wikipediaUrl': None, 'coordinates': 'Point(2.237655611 48.905410996)', 'area': 0.0008}, {'link': 'http://www.wikidata.org/entity/Q114860923', 'label': \"rue d'Estienne d'Orves\", 'wikipediaUrl': None, 'coordinates': 'Point(2.249299842 48.909123514)', 'area': 0.0005}, {'link': 'http://www.wikidata.org/entity/Q114860920', 'label': 'avenue Conté', 'wikipediaUrl': None, 'coordinates': 'Point(2.24018307 48.907859576)', 'area': 0.001}, {'link': 'http://www.wikidata.org/entity/Q114860926', 'label': 'avenue du Général Leclerc', 'wikipediaUrl': None, 'coordinates': 'Point(2.248370376 48.912058544)', 'area': 0.001}, {'link': 'http://www.wikidata.org/entity/Q114860927', 'label': 'impasse Auguste Buisson', 'wikipediaUrl': None, 'coordinates': 'Point(2.2535553 48.9082847)', 'area': 0.0001}, {'link': 'http://www.wikidata.org/entity/Q114860924', 'label': 'rue Yves le Caignard', 'wikipediaUrl': None, 'coordinates': 'Point(2.235206713 48.9077401)', 'area': 0.0005}, {'link': 'http://www.wikidata.org/entity/Q114860925', 'label': 'rue Fernand Drouilly', 'wikipediaUrl': None, 'coordinates': 'Point(2.23900215 48.9085923)', 'area': 0.0005}, {'link': 'http://www.wikidata.org/entity/Q114860930', 'label': 'rue Auguste Buisson', 'wikipediaUrl': None, 'coordinates': 'Point(2.253091335 48.909819645)', 'area': 0.0005}, {'link': 'http://www.wikidata.org/entity/Q114860931', 'label': 'rue des Murgers', 'wikipediaUrl': None, 'coordinates': 'Point(2.23379844 48.90328662)', 'area': 0.0005}, {'link': 'http://www.wikidata.org/entity/Q114860928', 'label': 'rue des Alpes', 'wikipediaUrl': None, 'coordinates': 'Point(2.23684786 48.90679341)', 'area': 0.0005}, {'link': 'http://www.wikidata.org/entity/Q114860929', 'label': 'avenue Marie Juliette', 'wikipediaUrl': None, 'coordinates': 'Point(2.256057725 48.91083395)', 'area': 0.001}, {'link': 'http://www.wikidata.org/entity/Q114860935', 'label': 'rue Raymond Ridel', 'wikipediaUrl': None, 'coordinates': 'Point(2.248914089 48.903785756)', 'area': 0.0005}, {'link': 'http://www.wikidata.org/entity/Q114860932', 'label': 'rue Bonnin', 'wikipediaUrl': None, 'coordinates': 'Point(2.23512066 48.90486138)', 'area': 0.0005}, {'link': 'http://www.wikidata.org/entity/Q114860933', 'label': 'rue Paul Rollet', 'wikipediaUrl': None, 'coordinates': 'Point(2.2497431 48.905755575)', 'area': 0.0005}, {'link': 'http://www.wikidata.org/entity/Q114860938', 'label': 'rue Gustave Rey', 'wikipediaUrl': None, 'coordinates': 'Point(2.255683818 48.91244329)', 'area': 0.0005}, {'link': 'http://www.wikidata.org/entity/Q114860939', 'label': 'avenue Marguerite', 'wikipediaUrl': None, 'coordinates': 'Point(2.23632655 48.90647065)', 'area': 0.001}, {'link': 'http://www.wikidata.org/entity/Q114860936', 'label': 'rue de la Ferme', 'wikipediaUrl': None, 'coordinates': 'Point(2.243356633 48.904107933)', 'area': 0.0005}, {'link': 'http://www.wikidata.org/entity/Q114860937', 'label': 'place du Général Leclerc', 'wikipediaUrl': None, 'coordinates': 'Point(2.2417496 48.909791866)', 'area': 0.0008}, {'link': 'http://www.wikidata.org/entity/Q114860942', 'label': 'rue Cambon', 'wikipediaUrl': None, 'coordinates': 'Point(2.256241042 48.913095271)', 'area': 0.0005}, {'link': 'http://www.wikidata.org/entity/Q114860943', 'label': 'rue Paul Prouteau', 'wikipediaUrl': None, 'coordinates': 'Point(2.232505644 48.904428111)', 'area': 0.0005}, {'link': 'http://www.wikidata.org/entity/Q114860940', 'label': 'rue Alphonse Beau de Rochas', 'wikipediaUrl': None, 'coordinates': 'Point(2.234597 48.9056916)', 'area': 0.0005}, {'link': 'http://www.wikidata.org/entity/Q114860941', 'label': 'rue du Moulin Bailly', 'wikipediaUrl': None, 'coordinates': 'Point(2.257632483 48.908605655)', 'area': 0.0005}, {'link': 'http://www.wikidata.org/entity/Q114860946', 'label': 'rue Gabriel Péri', 'wikipediaUrl': None, 'coordinates': 'Point(2.245296211 48.908391244)', 'area': 0.0005}, {'link': 'http://www.wikidata.org/entity/Q114860947', 'label': 'rue Gindre', 'wikipediaUrl': None, 'coordinates': 'Point(2.252950475 48.904200175)', 'area': 0.0005}, {'link': 'http://www.wikidata.org/entity/Q114860944', 'label': 'avenue de Charlebourg', 'wikipediaUrl': None, 'coordinates': 'Point(2.241596 48.904869216)', 'area': 0.001}, {'link': 'http://www.wikidata.org/entity/Q114860945', 'label': 'allée du Puits Fleuri', 'wikipediaUrl': None, 'coordinates': 'Point(2.237795883 48.907408316)', 'area': 0.0002}, {'link': 'http://www.wikidata.org/entity/Q114860950', 'label': 'avenue Barillet', 'wikipediaUrl': None, 'coordinates': 'Point(2.24018325 48.90323435)', 'area': 0.001}, {'link': 'http://www.wikidata.org/entity/Q114860951', 'label': 'avenue Olivier', 'wikipediaUrl': None, 'coordinates': 'Point(2.24210865 48.907407516)', 'area': 0.001}, {'link': 'http://www.wikidata.org/entity/Q114860948', 'label': 'rue du 8 Mai 1945', 'wikipediaUrl': None, 'coordinates': 'Point(2.256680909 48.911505813)', 'area': 0.0005}, {'link': 'http://www.wikidata.org/entity/Q114860949', 'label': 'villa Joany', 'wikipediaUrl': None, 'coordinates': 'Point(2.2429714 48.9096487)', 'area': None}, {'link': 'http://www.wikidata.org/entity/Q114860954', 'label': 'place des Champs Philippe', 'wikipediaUrl': None, 'coordinates': 'Point(2.23393775 48.903924687)', 'area': 0.0008}, {'link': 'http://www.wikidata.org/entity/Q114860955', 'label': 'place Rhin et Danube', 'wikipediaUrl': None, 'coordinates': 'Point(2.242596016 48.9029492)', 'area': 0.0008}, {'link': 'http://www.wikidata.org/entity/Q114860952', 'label': 'avenue des Bruyères', 'wikipediaUrl': None, 'coordinates': 'Point(2.2569399 48.9063008)', 'area': 0.001}, {'link': 'http://www.wikidata.org/entity/Q114860953', 'label': 'rue Pierre Joigneaux', 'wikipediaUrl': None, 'coordinates': 'Point(2.256352622 48.911019277)', 'area': 0.0005}, {'link': 'http://www.wikidata.org/entity/Q114860958', 'label': 'rue Georges', 'wikipediaUrl': None, 'coordinates': 'Point(2.251394463 48.904919254)', 'area': 0.0005}, {'link': 'http://www.wikidata.org/entity/Q114860959', 'label': 'rue Hérold', 'wikipediaUrl': None, 'coordinates': 'Point(2.24620258 48.91020684)', 'area': 0.0005}, {'link': 'http://www.wikidata.org/entity/Q114860956', 'label': 'avenue Foch', 'wikipediaUrl': None, 'coordinates': 'Point(2.247622006 48.909500951)', 'area': 0.001}, {'link': 'http://www.wikidata.org/entity/Q114860957', 'label': 'rue du Transvaal', 'wikipediaUrl': None, 'coordinates': 'Point(2.254971055 48.913435144)', 'area': 0.0005}, {'link': 'http://www.wikidata.org/entity/Q114860962', 'label': 'rue des Champs-Philippe', 'wikipediaUrl': None, 'coordinates': 'Point(2.235697936 48.906154536)', 'area': 0.0005}, {'link': 'http://www.wikidata.org/entity/Q114860963', 'label': 'villa des Pavillons', 'wikipediaUrl': None, 'coordinates': 'Point(2.245644666 48.908350333)', 'area': None}, {'link': 'http://www.wikidata.org/entity/Q114860960', 'label': \"rue Jeanne-d'Arc\", 'wikipediaUrl': None, 'coordinates': 'Point(2.24747319 48.9038668)', 'area': 0.0005}, {'link': 'http://www.wikidata.org/entity/Q114860961', 'label': 'rue Noël Pons', 'wikipediaUrl': None, 'coordinates': 'Point(2.256670175 48.909229166)', 'area': 0.0005}, {'link': 'http://www.wikidata.org/entity/Q114860966', 'label': 'allée Saint-Hubert', 'wikipediaUrl': None, 'coordinates': 'Point(2.2522118 48.913015333)', 'area': 0.0002}, {'link': 'http://www.wikidata.org/entity/Q114860967', 'label': 'place des Groues', 'wikipediaUrl': None, 'coordinates': 'Point(2.23721625 48.9071672)', 'area': 0.0008}, {'link': 'http://www.wikidata.org/entity/Q114860964', 'label': 'rue du Renard', 'wikipediaUrl': None, 'coordinates': 'Point(2.2381882 48.9083738)', 'area': 0.0005}, {'link': 'http://www.wikidata.org/entity/Q114860965', 'label': 'rue du Docteur Charles Jubert', 'wikipediaUrl': None, 'coordinates': 'Point(2.2466569 48.90265045)', 'area': 0.0005}, {'link': 'http://www.wikidata.org/entity/Q114860970', 'label': 'rue Louis Blanc', 'wikipediaUrl': None, 'coordinates': 'Point(2.248250887 48.910475)', 'area': 0.0005}, {'link': 'http://www.wikidata.org/entity/Q114860971', 'label': 'allée des Cerisiers', 'wikipediaUrl': None, 'coordinates': 'Point(2.256755375 48.909088125)', 'area': 0.0002}, {'link': 'http://www.wikidata.org/entity/Q114860968', 'label': 'place Forest Frederick Edward Yeo-Thomas', 'wikipediaUrl': None, 'coordinates': 'Point(2.23932526 48.9083084)', 'area': 0.0008}, {'link': 'http://www.wikidata.org/entity/Q114860969', 'label': 'avenue Joseph Froment', 'wikipediaUrl': None, 'coordinates': 'Point(2.25565014 48.91179366)', 'area': 0.001}, {'link': 'http://www.wikidata.org/entity/Q114860974', 'label': 'avenue Desirée', 'wikipediaUrl': None, 'coordinates': 'Point(2.24082855 48.90942135)', 'area': 0.001}, {'link': 'http://www.wikidata.org/entity/Q114860975', 'label': 'rue de Vernouillet', 'wikipediaUrl': None, 'coordinates': 'Point(2.232756475 48.905222725)', 'area': 0.0005}, {'link': 'http://www.wikidata.org/entity/Q114860972', 'label': 'rue de Plaisance', 'wikipediaUrl': None, 'coordinates': 'Point(2.251791851 48.908240496)', 'area': 0.0005}, {'link': 'http://www.wikidata.org/entity/Q114860973', 'label': 'rue du Château', 'wikipediaUrl': None, 'coordinates': 'Point(2.250836509 48.90519989)', 'area': 0.0005}, {'link': 'http://www.wikidata.org/entity/Q114860978', 'label': 'avenue Joffre', 'wikipediaUrl': None, 'coordinates': 'Point(2.244049967 48.905949664)', 'area': 0.001}, {'link': 'http://www.wikidata.org/entity/Q114860979', 'label': 'villa Robert', 'wikipediaUrl': None, 'coordinates': 'Point(2.2503946 48.91121695)', 'area': None}, {'link': 'http://www.wikidata.org/entity/Q114860976', 'label': 'rue de la Glacière', 'wikipediaUrl': None, 'coordinates': 'Point(2.242614625 48.904310487)', 'area': 0.0005}, {'link': 'http://www.wikidata.org/entity/Q114860977', 'label': \"villa de l'Indépendance\", 'wikipediaUrl': None, 'coordinates': 'Point(2.2457863 48.908514833)', 'area': None}, {'link': 'http://www.wikidata.org/entity/Q114860982', 'label': 'rue Pierre Semard', 'wikipediaUrl': None, 'coordinates': 'Point(2.23339232 48.905358406)', 'area': 0.0005}, {'link': 'http://www.wikidata.org/entity/Q114860983', 'label': 'villa du Château', 'wikipediaUrl': None, 'coordinates': 'Point(2.244793333 48.903899733)', 'area': None}, {'link': 'http://www.wikidata.org/entity/Q114860980', 'label': 'place de la Liberté', 'wikipediaUrl': None, 'coordinates': 'Point(2.246672029 48.909200862)', 'area': 0.0008}, {'link': 'http://www.wikidata.org/entity/Q114860981', 'label': 'avenue Antoinette', 'wikipediaUrl': None, 'coordinates': 'Point(2.24118135 48.9088743)', 'area': 0.001}, {'link': 'http://www.wikidata.org/entity/Q114860986', 'label': 'impasse Fourlon', 'wikipediaUrl': None, 'coordinates': 'Point(2.23853765 48.9047597)', 'area': 0.0001}, {'link': 'http://www.wikidata.org/entity/Q114860987', 'label': 'rue Kléber', 'wikipediaUrl': None, 'coordinates': 'Point(2.239646 48.905562045)', 'area': 0.0005}, {'link': 'http://www.wikidata.org/entity/Q114860984', 'label': 'rue Roussel', 'wikipediaUrl': None, 'coordinates': 'Point(2.239443241 48.908203608)', 'area': 0.0005}, {'link': 'http://www.wikidata.org/entity/Q114860985', 'label': 'rue Émile Delsol', 'wikipediaUrl': None, 'coordinates': 'Point(2.241169466 48.909741833)', 'area': 0.0005}, {'link': 'http://www.wikidata.org/entity/Q114860990', 'label': 'avenue Colombier Bernard', 'wikipediaUrl': None, 'coordinates': 'Point(2.2408114 48.90380615)', 'area': 0.001}, {'link': 'http://www.wikidata.org/entity/Q114860991', 'label': 'rond-point du Souvenir Français', 'wikipediaUrl': None, 'coordinates': 'Point(2.248273251 48.906382803)', 'area': 0.001}, {'link': 'http://www.wikidata.org/entity/Q114860988', 'label': 'rue du Mans', 'wikipediaUrl': None, 'coordinates': 'Point(2.23400295 48.9054991)', 'area': 0.0005}, {'link': 'http://www.wikidata.org/entity/Q114860989', 'label': 'avenue Marie Louise Vincent', 'wikipediaUrl': None, 'coordinates': 'Point(2.239015066 48.9088637)', 'area': 0.001}, {'link': 'http://www.wikidata.org/entity/Q114860994', 'label': \"avenue de l'Europe\", 'wikipediaUrl': None, 'coordinates': 'Point(2.257558836 48.9059299)', 'area': 0.001}, {'link': 'http://www.wikidata.org/entity/Q114860995', 'label': 'rue Jean-Baptiste Lafolie', 'wikipediaUrl': None, 'coordinates': 'Point(2.2509205 48.903677325)', 'area': 0.0005}, {'link': 'http://www.wikidata.org/entity/Q114860992', 'label': \"rue Dumont d'Urville\", 'wikipediaUrl': None, 'coordinates': 'Point(2.24079738 48.908343238)', 'area': 0.0005}, {'link': 'http://www.wikidata.org/entity/Q114860998', 'label': 'rue Louis Jean', 'wikipediaUrl': None, 'coordinates': 'Point(2.23424637 48.90652666)', 'area': 0.0005}, {'link': 'http://www.wikidata.org/entity/Q114860999', 'label': \"rue de l'Arrivée\", 'wikipediaUrl': None, 'coordinates': 'Point(2.238892779 48.909123625)', 'area': 0.0005}, {'link': 'http://www.wikidata.org/entity/Q114860996', 'label': 'rue Jules Ferry', 'wikipediaUrl': None, 'coordinates': 'Point(2.235661657 48.904032819)', 'area': 0.0005}, {'link': 'http://www.wikidata.org/entity/Q114860997', 'label': 'villa Aimée', 'wikipediaUrl': None, 'coordinates': 'Point(2.24057495 48.90919615)', 'area': None}, {'link': 'http://www.wikidata.org/entity/Q114861002', 'label': 'rue des Bleuets', 'wikipediaUrl': None, 'coordinates': 'Point(2.23299188 48.90286156)', 'area': 0.0005}, {'link': 'http://www.wikidata.org/entity/Q114861003', 'label': 'rue de Sotteville', 'wikipediaUrl': None, 'coordinates': 'Point(2.2337409 48.905802716)', 'area': 0.0005}, {'link': 'http://www.wikidata.org/entity/Q114861000', 'label': 'villa Marie Louise', 'wikipediaUrl': None, 'coordinates': 'Point(2.2529449 48.90680905)', 'area': None}, {'link': 'http://www.wikidata.org/entity/Q114861001', 'label': 'allée Denis Papin', 'wikipediaUrl': None, 'coordinates': 'Point(2.255980915 48.910026815)', 'area': 0.0002}, {'link': 'http://www.wikidata.org/entity/Q114861006', 'label': 'rue des Fauvelles', 'wikipediaUrl': None, 'coordinates': 'Point(2.237891344 48.9018838)', 'area': 0.0005}, {'link': 'http://www.wikidata.org/entity/Q114861007', 'label': 'rue Léon-Maurice Nordmann', 'wikipediaUrl': None, 'coordinates': 'Point(2.240715733 48.90405318)', 'area': 0.0005}, {'link': 'http://www.wikidata.org/entity/Q114861004', 'label': 'rue Étienne Marcel', 'wikipediaUrl': None, 'coordinates': 'Point(2.2369916 48.907865715)', 'area': 0.0005}, {'link': 'http://www.wikidata.org/entity/Q114861005', 'label': 'rue Veuve Lacroix', 'wikipediaUrl': None, 'coordinates': 'Point(2.233495715 48.90392181)', 'area': 0.0005}, {'link': 'http://www.wikidata.org/entity/Q114861010', 'label': 'rue Armand Peugeot', 'wikipediaUrl': None, 'coordinates': 'Point(2.234436025 48.903735875)', 'area': 0.0005}, {'link': 'http://www.wikidata.org/entity/Q114861011', 'label': 'rue Martin Bernard', 'wikipediaUrl': None, 'coordinates': 'Point(2.245960855 48.910593088)', 'area': 0.0005}, {'link': 'http://www.wikidata.org/entity/Q114861008', 'label': 'avenue Jeanne', 'wikipediaUrl': None, 'coordinates': 'Point(2.2555675 48.91095965)', 'area': 0.001}, {'link': 'http://www.wikidata.org/entity/Q114861014', 'label': 'rue Pasteur', 'wikipediaUrl': None, 'coordinates': 'Point(2.238001218 48.9048259)', 'area': 0.0005}, {'link': 'http://www.wikidata.org/entity/Q114861012', 'label': 'rue Crémieux', 'wikipediaUrl': None, 'coordinates': 'Point(2.24731475 48.90280895)', 'area': 0.0005}, {'link': 'http://www.wikidata.org/entity/Q114861013', 'label': 'villa Béreau-Hardy', 'wikipediaUrl': None, 'coordinates': 'Point(2.25688705 48.906678575)', 'area': None}, {'link': 'http://www.wikidata.org/entity/Q114861018', 'label': \"rue d'Alsace Lorraine\", 'wikipediaUrl': None, 'coordinates': 'Point(2.244406275 48.909384116)', 'area': 0.0005}, {'link': 'http://www.wikidata.org/entity/Q114861019', 'label': 'avenue Marcelline Binet', 'wikipediaUrl': None, 'coordinates': 'Point(2.234683666 48.9047622)', 'area': 0.001}, {'link': 'http://www.wikidata.org/entity/Q114861016', 'label': 'avenue Yvonne', 'wikipediaUrl': None, 'coordinates': 'Point(2.23536955 48.9075131)', 'area': 0.001}, {'link': 'http://www.wikidata.org/entity/Q114861017', 'label': 'place de la Gare des Vallées', 'wikipediaUrl': None, 'coordinates': 'Point(2.257685685 48.913345485)', 'area': 0.0008}, {'link': 'http://www.wikidata.org/entity/Q114861020', 'label': 'avenue Augustine', 'wikipediaUrl': None, 'coordinates': 'Point(2.237385777 48.906973222)', 'area': 0.001}, {'link': 'http://www.wikidata.org/entity/Q114861021', 'label': 'allée des Marronniers', 'wikipediaUrl': None, 'coordinates': 'Point(2.2476716 48.9054063)', 'area': 0.0002}]\n"
     ]
    }
   ],
   "source": [
    "count = 0\n",
    "for city in data:\n",
    "    if city[\"city\"][\"name\"] == \"La Garenne-Colombes\":\n",
    "        print(city[\"streets\"])"
   ]
  },
  {
   "cell_type": "code",
   "execution_count": 13,
   "metadata": {},
   "outputs": [],
   "source": [
    "import requests, json\n",
    "def get_streets(city_id):\n",
    "  sparql_query = f\"\"\"\n",
    "  PREFIX wd: <http://www.wikidata.org/entity/>\n",
    "  PREFIX wdt: <http://www.wikidata.org/prop/direct/>\n",
    "  PREFIX rdfs: <http://www.w3.org/2000/01/rdf-schema#>\n",
    "\n",
    "  SELECT ?location ?locationLabel ?wikipediaUrl ?coord WHERE {{\n",
    "    ?location wdt:P131 wd:{city_id}.\n",
    "    ?location rdfs:label ?locationLabel .\n",
    "    FILTER (lang(?locationLabel) = \"fr\")\n",
    "    \n",
    "    OPTIONAL {{\n",
    "      ?wikipediaUrl schema:about ?location .\n",
    "      FILTER (STRSTARTS(STR(?wikipediaUrl), \"https://fr.wikipedia.org/\"))\n",
    "    }}\n",
    "\n",
    "    {{\n",
    "      ?location wdt:P31/wdt:P279* wd:Q34442 .\n",
    "    }} UNION {{\n",
    "      ?location wdt:P31/wdt:P279* wd:Q79007 .\n",
    "    }} UNION {{\n",
    "      ?location wdt:P31/wdt:P279* wd:Q226649 .\n",
    "    }} UNION {{\n",
    "      ?location wdt:P31/wdt:P279* wd:Q41192 .\n",
    "    }} UNION {{\n",
    "      ?location wdt:P31/wdt:P279* wd:Q3257686 .\n",
    "    }} UNION {{\n",
    "      ?location wdt:P31/wdt:P279* wd:Q174782  .\n",
    "    }}\n",
    "    ?location wdt:P625 ?coord .\n",
    "  }}\n",
    "  \"\"\"\n",
    "\n",
    "  url = \"https://query.wikidata.org/sparql\"\n",
    "  headers = {\n",
    "      \"User-Agent\": \"Mozilla/5.0\",\n",
    "      \"Accept\": \"application/sparql-results+json\",\n",
    "  }\n",
    "  response = requests.post(url, data={\"query\": sparql_query}, headers=headers)\n",
    "\n",
    "  # Check if the request was successful\n",
    "  if response.status_code == 200:\n",
    "      json_data = json.loads(response.text)\n",
    "      #print(json_data)\n",
    "  else :\n",
    "     json_data = None\n",
    "  return json_data\n"
   ]
  },
  {
   "cell_type": "code",
   "execution_count": 15,
   "metadata": {},
   "outputs": [
    {
     "name": "stdout",
     "output_type": "stream",
     "text": [
      "City: Bordeaux - ID: Q1479\n"
     ]
    }
   ],
   "source": [
    "#get city id\n",
    "import requests\n",
    "\n",
    "def get_city_id(city_name):\n",
    "    url = f\"https://www.wikidata.org/w/api.php?action=wbsearchentities&search={city_name}&language=fr&format=json&type=item\"\n",
    "    response = requests.get(url)\n",
    "    data = response.json()\n",
    "\n",
    "    if data[\"search\"]:\n",
    "        return data[\"search\"][0][\"id\"]\n",
    "    else:\n",
    "        return None\n",
    "\n",
    "city_name = \"Bordeaux\"\n",
    "city_id = get_city_id(city_name)\n",
    "if city_id:\n",
    "    print(f\"City: {city_name} - ID: {city_id}\")\n",
    "else:\n",
    "    print(f\"City not found: {city_name}\")\n"
   ]
  },
  {
   "cell_type": "code",
   "execution_count": 16,
   "metadata": {},
   "outputs": [],
   "source": [
    "streets = get_streets(city_id)"
   ]
  },
  {
   "cell_type": "code",
   "execution_count": 18,
   "metadata": {},
   "outputs": [
    {
     "name": "stdout",
     "output_type": "stream",
     "text": [
      "None\n"
     ]
    }
   ],
   "source": [
    "print(streets)"
   ]
  }
 ],
 "metadata": {
  "kernelspec": {
   "display_name": "Python 3",
   "language": "python",
   "name": "python3"
  },
  "language_info": {
   "codemirror_mode": {
    "name": "ipython",
    "version": 3
   },
   "file_extension": ".py",
   "mimetype": "text/x-python",
   "name": "python",
   "nbconvert_exporter": "python",
   "pygments_lexer": "ipython3",
   "version": "3.9.13"
  },
  "orig_nbformat": 4
 },
 "nbformat": 4,
 "nbformat_minor": 2
}
