{
 "cells": [
  {
   "cell_type": "code",
   "execution_count": 28,
   "metadata": {},
   "outputs": [],
   "source": [
    "#get streets\n",
    "import requests, json\n",
    "def get_streets(city_id):\n",
    "  sparql_query = f\"\"\"\n",
    "  PREFIX wd: <http://www.wikidata.org/entity/>\n",
    "  PREFIX wdt: <http://www.wikidata.org/prop/direct/>\n",
    "  PREFIX rdfs: <http://www.w3.org/2000/01/rdf-schema#>\n",
    "\n",
    "  SELECT ?location ?locationLabel ?wikipediaUrl ?coord WHERE {{\n",
    "    ?location wdt:P131 wd:{city_id}.\n",
    "    ?location rdfs:label ?locationLabel .\n",
    "    FILTER (lang(?locationLabel) = \"fr\")\n",
    "    \n",
    "    OPTIONAL {{\n",
    "      ?wikipediaUrl schema:about ?location .\n",
    "      FILTER (STRSTARTS(STR(?wikipediaUrl), \"https://fr.wikipedia.org/\"))\n",
    "    }}\n",
    "\n",
    "    {{\n",
    "      ?location wdt:P31/wdt:P279* wd:Q34442 .\n",
    "    }} UNION {{\n",
    "      ?location wdt:P31/wdt:P279* wd:Q79007 .\n",
    "    }} UNION {{\n",
    "      ?location wdt:P31/wdt:P279* wd:Q226649 .\n",
    "    }} UNION {{\n",
    "      ?location wdt:P31/wdt:P279* wd:Q41192 .\n",
    "    }} UNION {{\n",
    "      ?location wdt:P31/wdt:P279* wd:Q3257686 .\n",
    "    }} UNION {{\n",
    "      ?location wdt:P31/wdt:P279* wd:Q174782  .\n",
    "    }}\n",
    "    ?location wdt:P625 ?coord .\n",
    "  }}\n",
    "  \"\"\"\n",
    "\n",
    "  url = \"https://query.wikidata.org/sparql\"\n",
    "  headers = {\n",
    "      \"User-Agent\": \"Mozilla/5.0\",\n",
    "      \"Accept\": \"application/sparql-results+json\",\n",
    "  }\n",
    "  response = requests.post(url, data={\"query\": sparql_query}, headers=headers)\n",
    "\n",
    "  # Check if the request was successful\n",
    "  if response.status_code == 200:\n",
    "      json_data = json.loads(response.text)\n",
    "      #print(json_data)\n",
    "  else :\n",
    "    print(response)\n",
    "    json_data = None\n",
    "  return json_data\n"
   ]
  },
  {
   "cell_type": "code",
   "execution_count": 15,
   "metadata": {},
   "outputs": [
    {
     "name": "stdout",
     "output_type": "stream",
     "text": [
      "City: Bordeaux - ID: Q1479\n"
     ]
    }
   ],
   "source": [
    "#get city id\n",
    "import requests\n",
    "\n",
    "def get_city_id(city_name):\n",
    "    url = f\"https://www.wikidata.org/w/api.php?action=wbsearchentities&search={city_name}&language=fr&format=json&type=item\"\n",
    "    response = requests.get(url)\n",
    "    data = response.json()\n",
    "\n",
    "    if data[\"search\"]:\n",
    "        return data[\"search\"][0][\"id\"]\n",
    "    else:\n",
    "        return None\n",
    "\n",
    "city_name = \"Bordeaux\"\n",
    "city_id = get_city_id(city_name)\n",
    "if city_id:\n",
    "    print(f\"City: {city_name} - ID: {city_id}\")\n",
    "else:\n",
    "    print(f\"City not found: {city_name}\")\n"
   ]
  }
 ],
 "metadata": {
  "kernelspec": {
   "display_name": "Python 3",
   "language": "python",
   "name": "python3"
  },
  "language_info": {
   "codemirror_mode": {
    "name": "ipython",
    "version": 3
   },
   "file_extension": ".py",
   "mimetype": "text/x-python",
   "name": "python",
   "nbconvert_exporter": "python",
   "pygments_lexer": "ipython3",
   "version": "3.9.13"
  },
  "orig_nbformat": 4
 },
 "nbformat": 4,
 "nbformat_minor": 2
}
