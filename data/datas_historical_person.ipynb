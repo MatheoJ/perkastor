{
 "cells": [
  {
   "attachments": {},
   "cell_type": "markdown",
   "metadata": {},
   "source": [
    "# Test de requête"
   ]
  },
  {
   "cell_type": "code",
   "execution_count": 40,
   "metadata": {},
   "outputs": [],
   "source": [
    "from SPARQLWrapper import SPARQLWrapper, JSON\n",
    "import json\n",
    "\n",
    "# Set up the SPARQL endpoint URL\n",
    "sparql = SPARQLWrapper(\"https://query.wikidata.org/sparql\")\n",
    "\n",
    "# Set the SPARQL query\n",
    "def get_historical_person(person_id, list_description):\n",
    "    query = f\"\"\"\n",
    "        PREFIX wd: <http://www.wikidata.org/entity/>\n",
    "        PREFIX wdt: <http://www.wikidata.org/prop/direct/>\n",
    "        PREFIX rdfs: <http://www.w3.org/2000/01/rdf-schema#>\n",
    "\n",
    "        SELECT ?name ?description ?date_naissance ?date_mort ?image WHERE {{\n",
    "            wd:{person_id} wdt:P1559 ?name .\n",
    "            wd:{person_id} schema:description ?description .\n",
    "            wd:{person_id} wdt:P569 ?date_naissance .\n",
    "            wd:{person_id} wdt:P570 ?date_mort .\n",
    "            wd:{person_id} wdt:P18 ?image .\n",
    "            FILTER(LANG(?description) = \"fr\")\n",
    "        }}\n",
    "    \"\"\"\n",
    "\n",
    "    # Set the output format to JSON\n",
    "    sparql.setReturnFormat(JSON)\n",
    "\n",
    "    # Send the SPARQL query to the endpoint\n",
    "    sparql.setQuery(query)\n",
    "    results = sparql.query().convert()\n",
    "    print(results)\n",
    "\n",
    "    # Save the results as a JSON file : il faut l'ajouter à la fin d'un json pas direct, sinon on écrase ou on fait une liste externe\n",
    "   \"\"\"  with open(\"test.json\", \"w\") as f:\n",
    "        json.dump(results, f, indent=4)\n",
    "\n",
    "    list_description.append({\n",
    "        \"name\": e['name'],\n",
    "        \"capital_words\" : (find_capital_words(e['description'])),\n",
    "        \"description\" : e['description']\n",
    "    }) \"\"\""
   ]
  },
  {
   "cell_type": "code",
   "execution_count": null,
   "metadata": {},
   "outputs": [],
   "source": [
    "from SPARQLWrapper import SPARQLWrapper, JSON\n",
    "import json\n",
    "\n",
    "# Set up the SPARQL endpoint URL\n",
    "sparql = SPARQLWrapper(\"https://query.wikidata.org/sparql\")\n",
    "name = \"Étienne Clémentel\"\n",
    "# Set the SPARQL query\n",
    "def get_historical_person_by_name(name):\n",
    "    query = f\"\"\"\n",
    "        SELECT ?person WHERE {{\n",
    "        ?person rdfs:label \"{name}\"@fr .\n",
    "        FILTER(STRSTARTS(STR(?person), \"http://www.wikidata.org/entity/\"))\n",
    "        }}\n",
    "    \"\"\"\n",
    "\n",
    "    sparql.setQuery(query)\n",
    "    sparql.setReturnFormat(JSON)\n",
    "\n",
    "    # Execute the query and parse the results\n",
    "    results = sparql.query().convert()\n",
    "\n",
    "    # Print the ID of the person\n",
    "    print(results[\"results\"][\"bindings\"][0][\"person\"][\"value\"].split(\"/\")[-1])\n",
    "    return(results[\"results\"][\"bindings\"][0][\"person\"][\"value\"].split(\"/\")[-1])"
   ]
  },
  {
   "cell_type": "code",
   "execution_count": 34,
   "metadata": {},
   "outputs": [
    {
     "name": "stdout",
     "output_type": "stream",
     "text": [
      "Q3592114\n"
     ]
    },
    {
     "data": {
      "text/plain": [
       "'Q3592114'"
      ]
     },
     "execution_count": 34,
     "metadata": {},
     "output_type": "execute_result"
    }
   ],
   "source": [
    "name = \"Étienne Clémentel\"\n",
    "get_historical_person_by_name(name)"
   ]
  },
  {
   "cell_type": "code",
   "execution_count": 38,
   "metadata": {},
   "outputs": [
    {
     "name": "stdout",
     "output_type": "stream",
     "text": [
      "Q3592114\n",
      "{'head': {'vars': ['name', 'description', 'date_naissance', 'date_mort', 'image']}, 'results': {'bindings': [{'name': {'xml:lang': 'fr', 'type': 'literal', 'value': 'Étienne Clémentel'}, 'date_naissance': {'datatype': 'http://www.w3.org/2001/XMLSchema#dateTime', 'type': 'literal', 'value': '1864-03-29T00:00:00Z'}, 'date_mort': {'datatype': 'http://www.w3.org/2001/XMLSchema#dateTime', 'type': 'literal', 'value': '1936-12-25T00:00:00Z'}, 'image': {'type': 'uri', 'value': 'http://commons.wikimedia.org/wiki/Special:FilePath/%C3%89tienne%20Cl%C3%A9mentel%201914.jpg'}, 'description': {'xml:lang': 'fr', 'type': 'literal', 'value': 'personnalité politique française'}}]}}\n"
     ]
    }
   ],
   "source": [
    "get_historical_person(get_historical_person_by_name(name))"
   ]
  },
  {
   "cell_type": "code",
   "execution_count": 39,
   "metadata": {},
   "outputs": [
    {
     "name": "stdout",
     "output_type": "stream",
     "text": [
      "Étienne Clémentel\n",
      "\n",
      "Q3592114\n",
      "{'head': {'vars': ['name', 'description', 'date_naissance', 'date_mort', 'image']}, 'results': {'bindings': [{'name': {'xml:lang': 'fr', 'type': 'literal', 'value': 'Étienne Clémentel'}, 'date_naissance': {'datatype': 'http://www.w3.org/2001/XMLSchema#dateTime', 'type': 'literal', 'value': '1864-03-29T00:00:00Z'}, 'date_mort': {'datatype': 'http://www.w3.org/2001/XMLSchema#dateTime', 'type': 'literal', 'value': '1936-12-25T00:00:00Z'}, 'image': {'type': 'uri', 'value': 'http://commons.wikimedia.org/wiki/Special:FilePath/%C3%89tienne%20Cl%C3%A9mentel%201914.jpg'}, 'description': {'xml:lang': 'fr', 'type': 'literal', 'value': 'personnalité politique française'}}]}}\n",
      "Poincaré\n",
      "\n",
      "Q233676\n",
      "{'head': {'vars': ['name', 'description', 'date_naissance', 'date_mort', 'image']}, 'results': {'bindings': []}}\n",
      "Franche-Comté\n",
      "\n",
      "Q16394\n",
      "{'head': {'vars': ['name', 'description', 'date_naissance', 'date_mort', 'image']}, 'results': {'bindings': []}}\n",
      "Beulay\n",
      "\n"
     ]
    },
    {
     "ename": "IndexError",
     "evalue": "list index out of range",
     "output_type": "error",
     "traceback": [
      "\u001b[1;31m---------------------------------------------------------------------------\u001b[0m",
      "\u001b[1;31mIndexError\u001b[0m                                Traceback (most recent call last)",
      "Cell \u001b[1;32mIn[39], line 7\u001b[0m\n\u001b[0;32m      5\u001b[0m \u001b[39mprint\u001b[39m(value[\u001b[39m'\u001b[39m\u001b[39mname\u001b[39m\u001b[39m'\u001b[39m])\n\u001b[0;32m      6\u001b[0m \u001b[39mprint\u001b[39m(\u001b[39m'\u001b[39m\u001b[39m'\u001b[39m)\n\u001b[1;32m----> 7\u001b[0m get_historical_person(get_historical_person_by_name(value[\u001b[39m'\u001b[39;49m\u001b[39mname\u001b[39;49m\u001b[39m'\u001b[39;49m]))\n\u001b[0;32m      8\u001b[0m \u001b[39mif\u001b[39;00m(i\u001b[39m==\u001b[39m\u001b[39m3\u001b[39m):\n\u001b[0;32m      9\u001b[0m     \u001b[39mbreak\u001b[39;00m\n",
      "Cell \u001b[1;32mIn[21], line 23\u001b[0m, in \u001b[0;36mget_historical_person_by_name\u001b[1;34m(name)\u001b[0m\n\u001b[0;32m     20\u001b[0m results \u001b[39m=\u001b[39m sparql\u001b[39m.\u001b[39mquery()\u001b[39m.\u001b[39mconvert()\n\u001b[0;32m     22\u001b[0m \u001b[39m# Print the ID of the person\u001b[39;00m\n\u001b[1;32m---> 23\u001b[0m \u001b[39mprint\u001b[39m(results[\u001b[39m\"\u001b[39;49m\u001b[39mresults\u001b[39;49m\u001b[39m\"\u001b[39;49m][\u001b[39m\"\u001b[39;49m\u001b[39mbindings\u001b[39;49m\u001b[39m\"\u001b[39;49m][\u001b[39m0\u001b[39;49m][\u001b[39m\"\u001b[39m\u001b[39mperson\u001b[39m\u001b[39m\"\u001b[39m][\u001b[39m\"\u001b[39m\u001b[39mvalue\u001b[39m\u001b[39m\"\u001b[39m]\u001b[39m.\u001b[39msplit(\u001b[39m\"\u001b[39m\u001b[39m/\u001b[39m\u001b[39m\"\u001b[39m)[\u001b[39m-\u001b[39m\u001b[39m1\u001b[39m])\n\u001b[0;32m     24\u001b[0m \u001b[39mreturn\u001b[39;00m(results[\u001b[39m\"\u001b[39m\u001b[39mresults\u001b[39m\u001b[39m\"\u001b[39m][\u001b[39m\"\u001b[39m\u001b[39mbindings\u001b[39m\u001b[39m\"\u001b[39m][\u001b[39m0\u001b[39m][\u001b[39m\"\u001b[39m\u001b[39mperson\u001b[39m\u001b[39m\"\u001b[39m][\u001b[39m\"\u001b[39m\u001b[39mvalue\u001b[39m\u001b[39m\"\u001b[39m]\u001b[39m.\u001b[39msplit(\u001b[39m\"\u001b[39m\u001b[39m/\u001b[39m\u001b[39m\"\u001b[39m)[\u001b[39m-\u001b[39m\u001b[39m1\u001b[39m])\n",
      "\u001b[1;31mIndexError\u001b[0m: list index out of range"
     ]
    }
   ],
   "source": [
    "\n",
    "with open('./files/historical_people.json', encoding='utf-8') as fh:\n",
    "    historical_people = json.load(fh)\n",
    "i=0\n",
    "for key, value in historical_people.items() :\n",
    "    print(value['name'])\n",
    "    print('')\n",
    "    get_historical_person(get_historical_person_by_name(value['name']))\n",
    "    if(i==3):\n",
    "        break\n",
    "    \n",
    "    i+=1\n"
   ]
  }
 ],
 "metadata": {
  "kernelspec": {
   "display_name": "Python 3",
   "language": "python",
   "name": "python3"
  },
  "language_info": {
   "codemirror_mode": {
    "name": "ipython",
    "version": 3
   },
   "file_extension": ".py",
   "mimetype": "text/x-python",
   "name": "python",
   "nbconvert_exporter": "python",
   "pygments_lexer": "ipython3",
   "version": "3.11.0"
  },
  "orig_nbformat": 4
 },
 "nbformat": 4,
 "nbformat_minor": 2
}
