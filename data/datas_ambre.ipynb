{
 "cells": [
  {
   "cell_type": "code",
   "execution_count": null,
   "metadata": {},
   "outputs": [],
   "source": [
    "from SPARQLWrapper import SPARQLWrapper, JSON\n",
    "import json\n",
    "\n",
    "# Set up the SPARQL endpoint URL\n",
    "sparql = SPARQLWrapper(\"http://dbpedia.org/sparql\")\n",
    "\n",
    "# Set the SPARQL query\n",
    "query = \"\"\"\n",
    "select distinct ?event ?description where {\n",
    "?event dbp:wikiPageUsesTemplate dbt:France_topics .\n",
    "?event dbo:abstract ?description .\n",
    "FILTER(LANG(?description) = \"fr\").\n",
    "}\n",
    "\"\"\"\n",
    "\n",
    "# Set the output format to JSON\n",
    "sparql.setReturnFormat(JSON)\n",
    "\n",
    "# Send the SPARQL query to the endpoint\n",
    "sparql.setQuery(query)\n",
    "results = sparql.query().convert()\n",
    "\n",
    "# Save the results as a JSON file\n",
    "with open(\"event.json\", \"w\") as f:\n",
    "    json.dump(results, f, indent=4)\n"
   ]
  },
  {
   "cell_type": "code",
   "execution_count": null,
   "metadata": {},
   "outputs": [],
   "source": [
    "f = open('event.json')\n",
    "data = json.load(f)\n",
    "\n",
    "for d in data['results']['bindings'] :\n",
    "    print(d['event']['value'])\n",
    "    print(d['description']['value'])\n",
    "    print('')\n",
    "  "
   ]
  },
  {
   "cell_type": "code",
   "execution_count": null,
   "metadata": {},
   "outputs": [],
   "source": [
    "events = []\n",
    "# affichage des noms et des identifiants des villes\n",
    "for result in data[\"results\"][\"bindings\"]:\n",
    "    name_event = result['event']['value'].split('/')[-1]\n",
    "    print(name_event)\n",
    "    events.append({\n",
    "        \"name\": name_event,\n",
    "        \"dbpediaUrl\": result['event']['value'],\n",
    "        \"description\" : result['description']['value']\n",
    "    })"
   ]
  },
  {
   "cell_type": "code",
   "execution_count": null,
   "metadata": {},
   "outputs": [],
   "source": [
    "with open('event_postTreatment.json', 'w') as outfile:\n",
    "    json.dump(events, outfile)"
   ]
  },
  {
   "cell_type": "code",
   "execution_count": null,
   "metadata": {},
   "outputs": [],
   "source": [
    "for e in events :\n",
    "    print(e)"
   ]
  },
  {
   "attachments": {},
   "cell_type": "markdown",
   "metadata": {},
   "source": [
    "# Essai de retrouver les villes dans les descriptions avec du NLP : ne marche pas dès que c'est pas une ville hyper connue ou Américaine"
   ]
  },
  {
   "cell_type": "code",
   "execution_count": null,
   "metadata": {},
   "outputs": [],
   "source": [
    "import spacy\n",
    "\n",
    "nlp = spacy.load('en_core_web_sm')\n",
    "\n",
    "def extract_cities(text):\n",
    "    doc = nlp(text)\n",
    "    cities = []\n",
    "    for ent in doc.ents:\n",
    "        if ent.label_ == 'GPE': # GPE: geopolitical entity\n",
    "            cities.append(ent.text)\n",
    "    return cities\n"
   ]
  },
  {
   "cell_type": "code",
   "execution_count": null,
   "metadata": {},
   "outputs": [],
   "source": [
    "# Example usage\n",
    "text = \"I love visiting Paris, Berlin and Tokyo.\"\n",
    "text2 = \"Carloman Ier, né en 751 à Soissons, mort le 4 décembre 771 à Samoussy dans l'Aisne, fut roi des Francs de 768 à 771. Il est le fils et successeur de Pépin le Bref.\"\n",
    "cities = extract_cities(text2)\n",
    "print(cities)  # Output: ['Paris', 'Berlin', 'Tokyo']\n"
   ]
  },
  {
   "attachments": {},
   "cell_type": "markdown",
   "metadata": {},
   "source": [
    "# Essai de récupérer les villes à partir du fichier de Yoann"
   ]
  },
  {
   "cell_type": "code",
   "execution_count": null,
   "metadata": {},
   "outputs": [],
   "source": [
    "import json\n",
    "\n",
    "fcities = open('cities.json')\n",
    "datac = json.load(fcities)\n",
    "\n",
    "for d in datac :\n",
    "    print(d['name'])\n",
    "    print('')"
   ]
  },
  {
   "cell_type": "code",
   "execution_count": null,
   "metadata": {},
   "outputs": [],
   "source": [
    "villes = []\n",
    "# affichage des noms et des identifiants des villes\n",
    "for d in datac:\n",
    "    villes.append({\n",
    "        \"name\": d['name']\n",
    "    })\n",
    "\n",
    "for c in villes:\n",
    "    #print(c['name'])\n",
    "    #print('')\n",
    "    if (c[\"name\"] == \"Soissons\"):\n",
    "        print(c[\"name\"])"
   ]
  },
  {
   "cell_type": "code",
   "execution_count": null,
   "metadata": {},
   "outputs": [],
   "source": [
    "import re\n",
    "\n",
    "def find_capital_words(text):\n",
    "    pattern = r'\\b[A-Z][a-z]*\\b'  # Matches words beginning with a capital letter\n",
    "    capital_words = re.findall(pattern, text)\n",
    "    return capital_words\n",
    "\n",
    "# Example usage\n",
    "text = \"John Smith is from New York and works at IBM.\"\n",
    "capital_words = find_capital_words(text2)\n",
    "print(capital_words)  # Output: ['John', 'Smith', 'New', 'York', 'IBM']\n",
    "\n"
   ]
  },
  {
   "cell_type": "code",
   "execution_count": null,
   "metadata": {},
   "outputs": [],
   "source": [
    "capital_words = []\n",
    "for e in events :\n",
    "    capital_words.append(find_capital_words(e['description']))\n",
    "for c in capital_words :\n",
    "    print(c)\n"
   ]
  },
  {
   "cell_type": "code",
   "execution_count": null,
   "metadata": {},
   "outputs": [],
   "source": [
    "capital_words = []\n",
    "\n",
    "for e in events :\n",
    "    capital_words.append({\n",
    "        \"name\": e['name'],\n",
    "        \"capital_words\" : (find_capital_words(e['description'])),\n",
    "        \"description\" : e['description']\n",
    "    })\n",
    "    \n",
    "for c in capital_words : \n",
    "    print(c['name'])\n",
    "    print(c['capital_words'])\n",
    "    print(c['description'])\n",
    "    print('')"
   ]
  },
  {
   "cell_type": "code",
   "execution_count": null,
   "metadata": {},
   "outputs": [],
   "source": [
    "event_to_keep = []\n",
    "\n",
    "for c in capital_words :\n",
    "    for i in c['capital_words']:\n",
    "        for v in villes :   \n",
    "            if (i== v['name']) and (i!='Francs') :\n",
    "                event_to_keep.append({\n",
    "                    \"name\": c['name'],\n",
    "                    \"description\": c['description'],\n",
    "                    \"citie\": i\n",
    "                })\n",
    "\n",
    "\n",
    "\n",
    "for e in event_to_keep:\n",
    "    print(e['name'])\n",
    "    print(e['description'])\n",
    "    print(e['citie'])\n",
    "    print('') "
   ]
  },
  {
   "attachments": {},
   "cell_type": "markdown",
   "metadata": {},
   "source": [
    "Enlève les doublons"
   ]
  },
  {
   "cell_type": "code",
   "execution_count": null,
   "metadata": {},
   "outputs": [],
   "source": [
    "event_to_keep = [dict(t) for t in {tuple(d.items()) for d in event_to_keep}]\n",
    "print(unique_list)"
   ]
  },
  {
   "cell_type": "code",
   "execution_count": null,
   "metadata": {},
   "outputs": [],
   "source": [
    "with open('event_to_keep.json', 'w') as outfile:\n",
    "    json.dump(event_to_keep, outfile, indent=4)"
   ]
  }
 ],
 "metadata": {
  "kernelspec": {
   "display_name": "Python 3",
   "language": "python",
   "name": "python3"
  },
  "language_info": {
   "codemirror_mode": {
    "name": "ipython",
    "version": 3
   },
   "file_extension": ".py",
   "mimetype": "text/x-python",
   "name": "python",
   "nbconvert_exporter": "python",
   "pygments_lexer": "ipython3",
   "version": "3.11.0"
  },
  "orig_nbformat": 4
 },
 "nbformat": 4,
 "nbformat_minor": 2
}
