{
 "cells": [
  {
   "cell_type": "code",
   "execution_count": null,
   "metadata": {},
   "outputs": [],
   "source": [
    "from SPARQLWrapper import SPARQLWrapper, JSON\n",
    "import json\n",
    "\n",
    "# Set up the SPARQL endpoint URL\n",
    "sparql = SPARQLWrapper(\"http://dbpedia.org/sparql\")\n",
    "\n",
    "# Set the SPARQL query\n",
    "query = \"\"\"\n",
    "select distinct ?event ?description where {\n",
    "?event dbp:wikiPageUsesTemplate dbt:France_topics .\n",
    "?event dbo:abstract ?description .\n",
    "FILTER(LANG(?description) = \"fr\").\n",
    "}\n",
    "\"\"\"\n",
    "\n",
    "# Set the output format to JSON\n",
    "sparql.setReturnFormat(JSON)\n",
    "\n",
    "# Send the SPARQL query to the endpoint\n",
    "sparql.setQuery(query)\n",
    "results = sparql.query().convert()\n",
    "\n",
    "# Save the results as a JSON file\n",
    "with open(\"test.json\", \"w\") as f:\n",
    "    json.dump(results, f, indent=4)\n"
   ]
  },
  {
   "cell_type": "code",
   "execution_count": null,
   "metadata": {},
   "outputs": [],
   "source": [
    "f = open('event.json')\n",
    "data = json.load(f)\n",
    "\n",
    "for d in data['results']['bindings'] :\n",
    "    print(d['event']['value'])\n",
    "    print(d['description']['value'])\n",
    "    print('')\n",
    "  "
   ]
  },
  {
   "cell_type": "code",
   "execution_count": null,
   "metadata": {},
   "outputs": [],
   "source": [
    "events = []\n",
    "# affichage des noms et des identifiants des villes\n",
    "for result in data[\"results\"][\"bindings\"]:\n",
    "    name_event = result['event']['value'].split('/')[-1]\n",
    "    print(name_event)\n",
    "    events.append({\n",
    "        \"name\": name_event,\n",
    "        \"dbpediaUrl\": result['event']['value'],\n",
    "        \"description\" : result['description']['value']\n",
    "    })"
   ]
  },
  {
   "cell_type": "code",
   "execution_count": null,
   "metadata": {},
   "outputs": [],
   "source": [
    "with open('event_postTreatment.json', 'w') as outfile:\n",
    "    json.dump(events, outfile)"
   ]
  },
  {
   "cell_type": "code",
   "execution_count": null,
   "metadata": {},
   "outputs": [],
   "source": [
    "for e in events :\n",
    "    print(e)"
   ]
  },
  {
   "attachments": {},
   "cell_type": "markdown",
   "metadata": {},
   "source": [
    "# Essai de retrouver les villes dans les descriptions avec du NLP : ne marche pas dès que c'est pas une ville hyper connue ou Américaine"
   ]
  },
  {
   "cell_type": "code",
   "execution_count": null,
   "metadata": {},
   "outputs": [],
   "source": [
    "import spacy\n",
    "\n",
    "nlp = spacy.load('en_core_web_sm')\n",
    "\n",
    "def extract_cities(text):\n",
    "    doc = nlp(text)\n",
    "    cities = []\n",
    "    for ent in doc.ents:\n",
    "        if ent.label_ == 'GPE': # GPE: geopolitical entity\n",
    "            cities.append(ent.text)\n",
    "    return cities\n"
   ]
  },
  {
   "cell_type": "code",
   "execution_count": null,
   "metadata": {},
   "outputs": [],
   "source": [
    "# Example usage\n",
    "text = \"I love visiting Paris, Berlin and Tokyo.\"\n",
    "text2 = \"Carloman Ier, né en 751 à Soissons, mort le 4 décembre 771 à Samoussy dans l'Aisne, fut roi des Francs de 768 à 771. Il est le fils et successeur de Pépin le Bref.\"\n",
    "cities = extract_cities(text2)\n",
    "print(cities)  # Output: ['Paris', 'Berlin', 'Tokyo']\n"
   ]
  },
  {
   "attachments": {},
   "cell_type": "markdown",
   "metadata": {},
   "source": [
    "# Essai de récupérer les villes à partir du fichier de Yoann"
   ]
  },
  {
   "cell_type": "code",
   "execution_count": null,
   "metadata": {},
   "outputs": [],
   "source": [
    "import json\n",
    "\n",
    "fcities = open('cities.json')\n",
    "datac = json.load(fcities)\n",
    "\n",
    "for d in datac :\n",
    "    print(d['name'])\n",
    "    print('')"
   ]
  },
  {
   "cell_type": "code",
   "execution_count": null,
   "metadata": {},
   "outputs": [],
   "source": [
    "villes = []\n",
    "# affichage des noms et des identifiants des villes\n",
    "for d in datac:\n",
    "    villes.append({\n",
    "        \"name\": d['name']\n",
    "    })\n",
    "\n",
    "for c in villes:\n",
    "    #print(c['name'])\n",
    "    #print('')\n",
    "    if (c[\"name\"] == \"Soissons\"):\n",
    "        print(c[\"name\"])"
   ]
  },
  {
   "cell_type": "code",
   "execution_count": null,
   "metadata": {},
   "outputs": [],
   "source": [
    "import re\n",
    "\n",
    "def find_capital_words(text):\n",
    "    pattern = r'\\b[A-Z][a-z]*\\b'  # Matches words beginning with a capital letter\n",
    "    capital_words = re.findall(pattern, text)\n",
    "    return capital_words\n",
    "\n",
    "# Example usage\n",
    "text = \"John Smith is from New York and works at IBM.\"\n",
    "capital_words = find_capital_words(text2)\n",
    "print(capital_words)  # Output: ['John', 'Smith', 'New', 'York', 'IBM']\n",
    "\n"
   ]
  },
  {
   "cell_type": "code",
   "execution_count": null,
   "metadata": {},
   "outputs": [],
   "source": [
    "capital_words = []\n",
    "for e in events :\n",
    "    capital_words.append(find_capital_words(e['description']))\n",
    "for c in capital_words :\n",
    "    print(c)\n"
   ]
  },
  {
   "cell_type": "code",
   "execution_count": null,
   "metadata": {},
   "outputs": [],
   "source": [
    "capital_words = []\n",
    "\n",
    "for e in events :\n",
    "    capital_words.append({\n",
    "        \"name\": e['name'],\n",
    "        \"capital_words\" : (find_capital_words(e['description'])),\n",
    "        \"description\" : e['description']\n",
    "    })\n",
    "    \n",
    "for c in capital_words : \n",
    "    print(c['name'])\n",
    "    print(c['capital_words'])\n",
    "    print(c['description'])\n",
    "    print('')"
   ]
  },
  {
   "cell_type": "code",
   "execution_count": null,
   "metadata": {},
   "outputs": [],
   "source": [
    "event_to_keep = []\n",
    "\n",
    "for c in capital_words :\n",
    "    for i in c['capital_words']:\n",
    "        for v in villes :   \n",
    "            if (i== v['name']) and (i!='Francs') :\n",
    "                event_to_keep.append({\n",
    "                    \"name\": c['name'],\n",
    "                    \"description\": c['description'],\n",
    "                    \"citie\": i\n",
    "                })\n",
    "\n",
    "\n",
    "\n",
    "for e in event_to_keep:\n",
    "    print(e['name'])\n",
    "    print(e['description'])\n",
    "    print(e['citie'])\n",
    "    print('') "
   ]
  },
  {
   "attachments": {},
   "cell_type": "markdown",
   "metadata": {},
   "source": [
    "Enlève les doublons"
   ]
  },
  {
   "cell_type": "code",
   "execution_count": null,
   "metadata": {},
   "outputs": [],
   "source": [
    "event_to_keep = [dict(t) for t in {tuple(d.items()) for d in event_to_keep}]\n",
    "print(event_to_keep)"
   ]
  },
  {
   "cell_type": "code",
   "execution_count": null,
   "metadata": {},
   "outputs": [],
   "source": [
    "with open('event_to_keep.json', 'w') as outfile:\n",
    "    json.dump(event_to_keep, outfile, indent=4)"
   ]
  },
  {
   "attachments": {},
   "cell_type": "markdown",
   "metadata": {},
   "source": [
    "# Ajout des dates"
   ]
  },
  {
   "cell_type": "code",
   "execution_count": null,
   "metadata": {},
   "outputs": [],
   "source": [
    "# Regular expression to match dates of the form '19XX' or '20XX'\n",
    "#pattern = r'\\b((10|11|12|13|14|15|16|17|18|19|20)\\d{2}|(1|2|3|4|5|6|7|8)\\d{2}|(X{0,3})(IX|IV|V?I{0,3})\\b)'\n",
    "#pattern = r'\\b((20[0-1][0-9]|2[0-9]{2}|1[0-9]{3}|[1-9][0-9]{0,2})|((X{0,3})(IX|IV|V?I{0,3}))|[IVX]{1,4}|([1-9][0-9]{0,2})0|[1-9][0-9]{0,2}0)\\b'\n",
    "#pattern = r'\\b((20[0-1][0-9]|2[0-9]{2}|1[0-9]{3}|[1-9][0-9]{0,2})(st|nd|rd|th)?\\s+century|((X{0,3})(IX|IV|V?I{0,3}))(st|nd|rd|th)?\\s+century|[IVX]{1,4}(st|nd|rd|th)?\\s+century|([1-9][0-9]{0,2})0s|[1-9][0-9]{0,2}0)\\b'\n",
    "pattern_dates = r\"\\b(0|[1-9]\\d{0,3}|1\\d{3}|20[0-2]\\d|2023)\\b\"\n",
    "pattern_centuries = r\"\\b((?:I|II|III|IV|V|VI|VII|VIII|IX|X|XI|XII|XIII|XIV|XV|XVI|XVII|XVIII|XIX|XX|XXI))\\b\"\n",
    "\n",
    "dated_events = []\n",
    "# Find all matches of the regular expression in the sentence\n",
    "for e in event_to_keep:\n",
    "    \n",
    "    matches_dates = re.findall(pattern_dates, e['description'])\n",
    "    matches_centuries = re.findall(pattern_centuries, e['description'])\n",
    "    if (len(matches_centuries)!=0) and (len(matches_dates)!=0):\n",
    "        print(e['name'])\n",
    "        print(e['description'])\n",
    "        print(e['citie'])\n",
    "        print(matches_dates)\n",
    "        print(matches_centuries)\n",
    "        list(set(matches_dates))\n",
    "        list(set(matches_centuries))\n",
    "        print(matches_dates)\n",
    "        print(matches_centuries)\n",
    "        \n",
    "        dates = matches_dates+matches_centuries\n",
    "        dates = ' '.join(dates)\n",
    "        print(dates)\n",
    "        dated_events.append({\n",
    "                    \"name\": e['name'],\n",
    "                    \"description\": e['description'],\n",
    "                    \"citie\": e['citie'],\n",
    "                    \"date\": dates\n",
    "                })\n",
    "    \n",
    "    print('') \n",
    "\n",
    "print(len(dated_events))\n"
   ]
  },
  {
   "cell_type": "code",
   "execution_count": null,
   "metadata": {},
   "outputs": [],
   "source": [
    "for e in dated_events:\n",
    "    print(e['name'])\n",
    "    print(e['description'])\n",
    "    print(e['citie'])\n",
    "    print(e['date'])\n",
    "    print('') "
   ]
  },
  {
   "cell_type": "code",
   "execution_count": null,
   "metadata": {},
   "outputs": [],
   "source": [
    "with open('dated_events.json', 'w') as outfile:\n",
    "    json.dump(dated_events, outfile, indent=4)"
   ]
  },
  {
   "cell_type": "code",
   "execution_count": null,
   "metadata": {},
   "outputs": [],
   "source": [
    "print(len(event_to_keep))\n",
    "print(len(dated_events))"
   ]
  },
  {
   "cell_type": "code",
   "execution_count": null,
   "metadata": {},
   "outputs": [],
   "source": [
    "import json\n",
    "\n",
    "datas = open('dated_events_v2.json')\n",
    "datac = json.load(datas)\n",
    "print(len(datac))\n",
    "for d in datac :\n",
    "    print(d['name'])\n",
    "    print(d['description'])\n",
    "    print(d['city'])\n",
    "    print(d['date'])\n",
    "    print('')"
   ]
  },
  {
   "cell_type": "code",
   "execution_count": null,
   "metadata": {},
   "outputs": [],
   "source": [
    "import re\n",
    "\n",
    "# Example sentence\n",
    "sentence = \"Le français est parlé, en 2022, sur tous les continents par environ 321 millions de personnes : 235 millions l'emploient quotidiennement, et 90 millions en sont des locuteurs natifs.\"\n",
    "\n",
    "# Regular expression to match numbers followed by \"millions\"\n",
    "pattern = r\"\\b\\d+\\s+millions\\b\"\n",
    "\n",
    "# Find all matches of the pattern in the sentence\n",
    "matches = re.findall(pattern, sentence)\n",
    "\n",
    "# Print the matches\n",
    "print(matches)"
   ]
  },
  {
   "cell_type": "code",
   "execution_count": null,
   "metadata": {},
   "outputs": [],
   "source": [
    "# Regular expression to match numbers followed by \"millions\"\n",
    "pattern = r\"\\b\\d+\\s+millions\\b\"\n",
    "pattern_dates = r\"\\b(0|[1-9]\\d{0,3}|1\\d{3}|20[0-2]\\d|2023)\\b\"\n",
    "\n",
    "for d in datac :\n",
    "    matches = re.findall(pattern, d['description'])\n",
    "    for m in matches :        \n",
    "        match = re.findall(pattern_dates, m)\n",
    "    print(match)\n",
    "    \n",
    "    print(d['name'])\n",
    "    print(d['description'])\n",
    "    print(d['city'])\n",
    "    print(d['date'])\n",
    "    print('')\n",
    "    "
   ]
  },
  {
   "cell_type": "code",
   "execution_count": null,
   "metadata": {},
   "outputs": [],
   "source": [
    "print(len(datac))\n",
    "with open('dated_events_v2.json', 'w') as outfile:\n",
    "    json.dump(datac, outfile, indent=4)"
   ]
  },
  {
   "cell_type": "code",
   "execution_count": null,
   "metadata": {},
   "outputs": [],
   "source": [
    "import json\n",
    "\n",
    "datas = open('dated_events_v2.json')\n",
    "events = json.load(datas)\n",
    "print(len(events))\n",
    "for e in events :\n",
    "    print(e['name'])\n",
    "    print(e['description'])\n",
    "    print(e['city'])\n",
    "    print(e['date'])\n",
    "    print('')"
   ]
  },
  {
   "cell_type": "code",
   "execution_count": null,
   "metadata": {},
   "outputs": [],
   "source": [
    "fcities = open('cities.json')\n",
    "cities = json.load(fcities)\n",
    "\n",
    "for c in cities :\n",
    "    print(c['name'])\n",
    "    print(c['id'])\n",
    "    print('')"
   ]
  },
  {
   "cell_type": "code",
   "execution_count": null,
   "metadata": {},
   "outputs": [],
   "source": [
    "event_with_city_id = []\n",
    "\n",
    "for e in events :\n",
    "    for c in cities :\n",
    "        if(e['city']==c['name']):\n",
    "            id = c['id']\n",
    "    event_with_city_id.append({\n",
    "                'id': id,\n",
    "                'name': e['name'],\n",
    "                'description': e['description'],\n",
    "                'city': e['city'],\n",
    "                'date': e['date']\n",
    "            })\n",
    "for e in event_with_city_id:\n",
    "    print(e['id'])\n",
    "    print(e['name'])\n",
    "    print(e['description'])\n",
    "    print(e['city'])\n",
    "    print(e['date'])\n",
    "    print('')\n",
    "\n",
    "print(len(event_with_city_id))"
   ]
  },
  {
   "cell_type": "code",
   "execution_count": null,
   "metadata": {},
   "outputs": [],
   "source": [
    "print(len(event_with_city_id))\n",
    "with open('dated_events_v3.json', 'w') as outfile:\n",
    "    json.dump(event_with_city_id, outfile, indent=4)"
   ]
  }
 ],
 "metadata": {
  "kernelspec": {
   "display_name": "Python 3",
   "language": "python",
   "name": "python3"
  },
  "language_info": {
   "codemirror_mode": {
    "name": "ipython",
    "version": 3
   },
   "file_extension": ".py",
   "mimetype": "text/x-python",
   "name": "python",
   "nbconvert_exporter": "python",
   "pygments_lexer": "ipython3",
   "version": "3.11.0"
  },
  "orig_nbformat": 4
 },
 "nbformat": 4,
 "nbformat_minor": 2
}
